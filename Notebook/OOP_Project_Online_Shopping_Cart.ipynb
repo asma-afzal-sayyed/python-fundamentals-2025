{
 "cells": [
  {
   "cell_type": "markdown",
   "id": "cf79c7f3-4a56-497c-ae38-d5183b8b68ee",
   "metadata": {},
   "source": [
    "## 3️⃣ Online Shopping Cart\n",
    "\n",
    "#### Classes:\n",
    "##### Product, Cart, Customer, Order\n",
    "\n",
    "#### OOP Concepts:\n",
    "##### Composition → Cart has Product\n",
    "##### Encapsulation → private order ID\n",
    "##### Polymorphism → different customer types (Guest, Registered)"
   ]
  },
  {
   "cell_type": "code",
   "execution_count": 4,
   "id": "cdbda576-44ce-4549-861f-14d1827a1f9d",
   "metadata": {},
   "outputs": [
    {
     "name": "stdout",
     "output_type": "stream",
     "text": [
      "========== 🛍️ WELCOME TO ONLINE SHOPPING CART ==========\n",
      "\n",
      "Available Products:\n",
      "P101 → Laptop : ₹60000\n",
      "P102 → Headphones : ₹1500\n",
      "P103 → Mouse : ₹700\n",
      "P104 → Keyboard : ₹1200\n",
      "P105 → Smartwatch : ₹3500\n"
     ]
    },
    {
     "name": "stdin",
     "output_type": "stream",
     "text": [
      "\n",
      "Enter Product Code to add to cart (or 'done' to finish):  P102\n"
     ]
    },
    {
     "name": "stdout",
     "output_type": "stream",
     "text": [
      "✅ Headphones added to cart.\n"
     ]
    },
    {
     "name": "stdin",
     "output_type": "stream",
     "text": [
      "\n",
      "Enter Product Code to add to cart (or 'done' to finish):  done\n"
     ]
    },
    {
     "name": "stdout",
     "output_type": "stream",
     "text": [
      "\n",
      "🛒 CART ITEMS:\n",
      "- Headphones (₹1500)\n",
      "Total: ₹1500\n",
      "\n",
      "Customer Type:\n",
      "1. Guest\n",
      "2. Registered\n"
     ]
    },
    {
     "name": "stdin",
     "output_type": "stream",
     "text": [
      "Enter choice (1 or 2):  2\n",
      "Enter your name:  Asma\n"
     ]
    },
    {
     "name": "stdout",
     "output_type": "stream",
     "text": [
      "\n",
      "📦 ORDER SUMMARY\n",
      "Order ID: ae83c1f0\n",
      "Customer: Asma\n",
      "Total: ₹1500\n",
      "Discount: 10%\n",
      "Final Amount: ₹1350.0\n",
      "Order Date: 2025-10-30 11:33:38\n",
      "\n",
      "💖 Thank you for shopping with us!\n"
     ]
    }
   ],
   "source": [
    "import uuid\n",
    "from datetime import datetime\n",
    "\n",
    "class Product:\n",
    "    def __init__(self, code, name, price):\n",
    "        self.code = code\n",
    "        self.name = name\n",
    "        self.price = price\n",
    "\n",
    "\n",
    "class Cart:\n",
    "    def __init__(self):\n",
    "        self.products = []\n",
    "\n",
    "    def add_product(self, product):\n",
    "        self.products.append(product)\n",
    "        print(f\"✅ {product.name} added to cart.\")\n",
    "\n",
    "    def view_cart(self):\n",
    "        if not self.products:\n",
    "            print(\"\\n🛒 Your cart is empty!\")\n",
    "            return\n",
    "        print(\"\\n🛒 CART ITEMS:\")\n",
    "        for p in self.products:\n",
    "            print(f\"- {p.name} (₹{p.price})\")\n",
    "        print(f\"Total: ₹{self.get_total()}\")\n",
    "\n",
    "    def get_total(self):\n",
    "        return sum(p.price for p in self.products)\n",
    "\n",
    "\n",
    "class Customer:\n",
    "    def __init__(self, name):\n",
    "        self.name = name\n",
    "\n",
    "    def get_discount(self):\n",
    "        return 0\n",
    "\n",
    "\n",
    "class GuestCustomer(Customer):\n",
    "    def get_discount(self):\n",
    "        return 0\n",
    "\n",
    "\n",
    "class RegisteredCustomer(Customer):\n",
    "    def get_discount(self):\n",
    "        return 10\n",
    "\n",
    "\n",
    "class Order:\n",
    "    def __init__(self, customer, cart):\n",
    "        self.__order_id = uuid.uuid4().hex[:8]  # private order ID\n",
    "        self.customer = customer\n",
    "        self.cart = cart\n",
    "        self.date = datetime.now()\n",
    "\n",
    "    def place_order(self):\n",
    "        total = self.cart.get_total()\n",
    "        discount = self.customer.get_discount()\n",
    "        final_amount = total - (total * discount / 100)\n",
    "\n",
    "        print(\"\\n📦 ORDER SUMMARY\")\n",
    "        print(f\"Order ID: {self.__order_id}\")\n",
    "        print(f\"Customer: {self.customer.name}\")\n",
    "        print(f\"Total: ₹{total}\")\n",
    "        print(f\"Discount: {discount}%\")\n",
    "        print(f\"Final Amount: ₹{final_amount}\")\n",
    "        print(f\"Order Date: {self.date.strftime('%Y-%m-%d %H:%M:%S')}\")\n",
    "        print(\"\\n💖 Thank you for shopping with us!\")\n",
    "\n",
    "\n",
    "products = [\n",
    "    Product(\"P101\", \"Laptop\", 60000),\n",
    "    Product(\"P102\", \"Headphones\", 1500),\n",
    "    Product(\"P103\", \"Mouse\", 700),\n",
    "    Product(\"P104\", \"Keyboard\", 1200),\n",
    "    Product(\"P105\", \"Smartwatch\", 3500)\n",
    "]\n",
    "\n",
    "print(\"========== 🛍️ WELCOME TO ONLINE SHOPPING CART ==========\")\n",
    "print(\"\\nAvailable Products:\")\n",
    "for p in products:\n",
    "    print(f\"{p.code} → {p.name} : ₹{p.price}\")\n",
    "\n",
    "cart = Cart()\n",
    "\n",
    "while True:\n",
    "    code = input(\"\\nEnter Product Code to add to cart (or 'done' to finish): \").upper()\n",
    "    if code == 'DONE':\n",
    "        break\n",
    "    found = next((p for p in products if p.code == code), None)\n",
    "    if found:\n",
    "        cart.add_product(found)\n",
    "    else:\n",
    "        print(\"❌ Invalid product code! Try again.\")\n",
    "\n",
    "cart.view_cart()\n",
    "\n",
    "print(\"\\nCustomer Type:\")\n",
    "print(\"1. Guest\")\n",
    "print(\"2. Registered\")\n",
    "choice = input(\"Enter choice (1 or 2): \")\n",
    "\n",
    "name = input(\"Enter your name: \")\n",
    "\n",
    "if choice == '2':\n",
    "    customer = RegisteredCustomer(name)\n",
    "else:\n",
    "    customer = GuestCustomer(name)\n",
    "\n",
    "order = Order(customer, cart)\n",
    "order.place_order()\n"
   ]
  },
  {
   "cell_type": "code",
   "execution_count": null,
   "id": "fd92e933-6871-4d11-935b-50e0694b1d87",
   "metadata": {},
   "outputs": [],
   "source": []
  },
  {
   "cell_type": "code",
   "execution_count": null,
   "id": "67629d95-37d9-4631-92ea-68070673a36d",
   "metadata": {},
   "outputs": [],
   "source": []
  }
 ],
 "metadata": {
  "kernelspec": {
   "display_name": "Python 3 (ipykernel)",
   "language": "python",
   "name": "python3"
  },
  "language_info": {
   "codemirror_mode": {
    "name": "ipython",
    "version": 3
   },
   "file_extension": ".py",
   "mimetype": "text/x-python",
   "name": "python",
   "nbconvert_exporter": "python",
   "pygments_lexer": "ipython3",
   "version": "3.12.5"
  }
 },
 "nbformat": 4,
 "nbformat_minor": 5
}
