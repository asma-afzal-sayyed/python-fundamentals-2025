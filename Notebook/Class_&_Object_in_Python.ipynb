{
 "cells": [
  {
   "cell_type": "markdown",
   "id": "15391f4d-440c-4446-b9be-f83cbb00abb8",
   "metadata": {},
   "source": [
    "# Python Exercises on Class and Object"
   ]
  },
  {
   "cell_type": "code",
   "execution_count": 2,
   "id": "0b4ba616-5c24-4e6c-84f2-86558ea0382d",
   "metadata": {},
   "outputs": [
    {
     "name": "stdin",
     "output_type": "stream",
     "text": [
      "Enter the Side of Square:  2.78\n"
     ]
    },
    {
     "name": "stdout",
     "output_type": "stream",
     "text": [
      "The are of squaer is:7.728399999999999 Cm²\n",
      "Perimeter of Square is:11.12 Cm\n"
     ]
    }
   ],
   "source": [
    "# 1. Write a program to find the area of square and thier perimeter of square using class and object.\n",
    "\n",
    "class square:\n",
    "    def __init__(self):\n",
    "        self.side = float(input(\"Enter the Side of Square: \"))\n",
    "\n",
    "    # method\n",
    "\n",
    "    def detailsSquare(self):\n",
    "        area = self.side*self.side\n",
    "        perimeter = 4*self.side\n",
    "        print(f\"The are of squaer is:{area} Cm²\\nPerimeter of Square is:{perimeter} Cm\")\n",
    "\n",
    "sqr1 = square()\n",
    "sqr1.detailsSquare()"
   ]
  },
  {
   "cell_type": "code",
   "execution_count": 3,
   "id": "c79655c9-6b2e-414e-bc58-e77bcc598107",
   "metadata": {},
   "outputs": [
    {
     "name": "stdout",
     "output_type": "stream",
     "text": [
      "The area of a rectangle of  10 and 12 is: 120 Cm²\n",
      "The perimeter of a rectangle of side_length 10 and 12  is: 44 Cm\n"
     ]
    }
   ],
   "source": [
    "# 2. Write a program to find area of rectangle and thier perimeter\n",
    "\n",
    "class rectangle:\n",
    "    def __init__(self,length,breadth):\n",
    "        self.length = length\n",
    "        self.breadth  = breadth\n",
    "\n",
    "    def rectangleCal(self):\n",
    "        area = self.length * self.breadth\n",
    "        peri = 2* (self.length + self.breadth)\n",
    "        print(f\"The area of a rectangle of  {self.length} and {self.breadth} is: {area} Cm²\")\n",
    "        print(f\"The perimeter of a rectangle of side_length {self.length} and {self.breadth}  is: {peri} Cm\")\n",
    "rect1 =  rectangle(10,12)\n",
    "rect1.rectangleCal()"
   ]
  },
  {
   "cell_type": "code",
   "execution_count": 4,
   "id": "2d74c2bb-08c4-4d38-9246-88824e701aa5",
   "metadata": {},
   "outputs": [
    {
     "name": "stdout",
     "output_type": "stream",
     "text": [
      "Area of circle is:314.1592653589793 Cm²\n",
      "Circumference of Circle is:62.83185307179586 Cm\n"
     ]
    }
   ],
   "source": [
    "#3. Write a program to find area of circle and their circumference and their diameter.\n",
    "\n",
    "import math\n",
    "\n",
    "class circle:\n",
    "    def __init__(self,radius):\n",
    "        self.radius = radius\n",
    "\n",
    "\n",
    "    def detailsCircle(self):\n",
    "        area = math.pi*self.radius**2\n",
    "        circumference = 2*math.pi*self.radius\n",
    "        print(f'Area of circle is:{area} Cm²')\n",
    "        print(f\"Circumference of Circle is:{circumference} Cm\")\n",
    "\n",
    "circle1 = circle(10)\n",
    "circle1.detailsCircle()"
   ]
  },
  {
   "cell_type": "code",
   "execution_count": 8,
   "id": "8cc50527-be4e-45d5-82ae-3df749b0370c",
   "metadata": {},
   "outputs": [
    {
     "name": "stdout",
     "output_type": "stream",
     "text": [
      "Side of Scalen Triangle is:11.0 Cm\n",
      "Area of Scalen Triangle is:16.24807680927192 Cm²\n"
     ]
    }
   ],
   "source": [
    "#4. find the area scalen triangle and their perimeter.\n",
    "# Area  = (1/2) x b x h square units\n",
    "# s = (a+b+c)/2\n",
    "# Area of the triangle A = √s(s - a)(s - b)(s - c) square units\n",
    "\n",
    "class scalenTriangle:\n",
    "    def __init__(self,a,b,c):\n",
    "        self.a = a\n",
    "        self.b = b\n",
    "        self.c = c\n",
    "\n",
    "    def detailsScalenTriangle(self):\n",
    "        if self.a>0 and self.b>0 and self.c>0:\n",
    "            if self.a+self.b>self.a or self.a+sel.c>self.b or self.a>self.b+self.c:\n",
    "                side = (self.a+self.b+self.c)/2\n",
    "                try:\n",
    "                    areaofScalen = math.sqrt(side*(side-self.a)*(side-self.b)*(side-self.c))\n",
    "                except ValueError:\n",
    "                    print(\"Enter A Valid Triangle Value\")\n",
    "                else:\n",
    "                    print(f\"Side of Scalen Triangle is:{side} Cm\\nArea of Scalen Triangle is:{areaofScalen} Cm²\")\n",
    "            else:\n",
    "                print('Enter a Valid Triangle value.')\n",
    "        else:\n",
    "            print(\"Value can't be in Negative\")\n",
    "            \n",
    "scalen1 = scalenTriangle(7,10,5)\n",
    "scalen1.detailsScalenTriangle()"
   ]
  },
  {
   "cell_type": "code",
   "execution_count": 19,
   "id": "1e484d48-0cf5-45a3-8a07-88fddf185e61",
   "metadata": {},
   "outputs": [
    {
     "name": "stdout",
     "output_type": "stream",
     "text": [
      "Area of the triangle: 530.4405598179686 Cm²\n",
      "Perimeter of the triangle: 105 Cm\n"
     ]
    }
   ],
   "source": [
    "# 5. Find the area of equilateral triangle and their perimeter.\n",
    "\n",
    "import math\n",
    "\n",
    "class equilateralTriangle:\n",
    "    def __init__(self, side):\n",
    "        self.side = side  \n",
    "\n",
    "    def calculate(self):\n",
    "        perimeter = 3 * self.side\n",
    "        area = (math.sqrt(3) / 4) * (self.side ** 2)\n",
    "\n",
    "        print(\"Area of the triangle:\", area,\"Cm²\")\n",
    "        print(\"Perimeter of the triangle:\", perimeter,\"Cm\")\n",
    "triangle=equilateralTriangle(35)\n",
    "triangle.calculate()"
   ]
  },
  {
   "cell_type": "code",
   "execution_count": 10,
   "id": "24570b0f-7c56-47a3-bf21-7bd25b2155fc",
   "metadata": {},
   "outputs": [
    {
     "name": "stdout",
     "output_type": "stream",
     "text": [
      "Area of Right Angled Triangle is:250.0 Cm²\n",
      "Perimeter of Right Angled Triangle is:110.99019513592785 Cm\n"
     ]
    }
   ],
   "source": [
    "#6. find the area of right-angle triangle and thier perimeter.\n",
    "# Hypotenuse = √(Perpendicular2 + Base2)\n",
    "# Area of Right Angle Triangle = ½ (Base × Perpendicular)\n",
    "\n",
    "class rightAngleTriangle:\n",
    "    def __init__(self,perpendicular,base):\n",
    "        self.perpendicular = perpendicular\n",
    "        self.base = base\n",
    "\n",
    "    def detailsRightTrianlge(self):\n",
    "        h = math.sqrt(self.perpendicular**2+self.base**2)\n",
    "        # print(h)\n",
    "        area = 1/2*(self.base*self.perpendicular)\n",
    "        print(f'Area of Right Angled Triangle is:{area} Cm²')\n",
    "        perimeter = h+self.base+self.perpendicular\n",
    "        print(f\"Perimeter of Right Angled Triangle is:{perimeter} Cm\")\n",
    "\n",
    "\n",
    "trianlge = rightAngleTriangle(10,50)\n",
    "trianlge.detailsRightTrianlge()"
   ]
  },
  {
   "cell_type": "code",
   "execution_count": 16,
   "id": "29d105c0-befe-4a5e-9cfd-1f76d01fc88b",
   "metadata": {},
   "outputs": [
    {
     "name": "stdout",
     "output_type": "stream",
     "text": [
      "Area: 50 Cm²\n",
      "Perimeter: 20 cm\n"
     ]
    }
   ],
   "source": [
    "#7. find the are of rhombus and thier perimeter.\n",
    "# Area of a Rhombus = A = ½ × d1 × d2\n",
    "\n",
    "\n",
    "class Rhombus:\n",
    "    def __init__(self, base, perpendiclar):\n",
    "        self.b = base\n",
    "        self.p = perpendiclar\n",
    "\n",
    "    def area_Rhombus(self):\n",
    "        area = self.b * self.p\n",
    "        print(f\"Area: {area} Cm²\")\n",
    "\n",
    "    def perimeter_Rhombus(self):\n",
    "        perimeter = 4* self.b\n",
    "        print(f\"Perimeter: {perimeter} cm\")\n",
    "rhombus = Rhombus(5, 10)\n",
    "rhombus.area_Rhombus()\n",
    "rhombus.perimeter_Rhombus()"
   ]
  },
  {
   "cell_type": "code",
   "execution_count": 18,
   "id": "b031628a-43fe-46d8-815c-81ff1f9ecabe",
   "metadata": {},
   "outputs": [
    {
     "name": "stdout",
     "output_type": "stream",
     "text": [
      "Area: 7.154544010627092 Cm²\n",
      "Perimeter: 13 cm\n"
     ]
    }
   ],
   "source": [
    "#8. find the area of isosclaes triangle and their perimeter.\n",
    "# Area = ½ × base × Height\n",
    "# The perimeter of the isosceles triangle\tP = 2a + b\n",
    "\n",
    "class Isosceles:\n",
    "    def __init__(self, equal_side, base):\n",
    "        self.a = equal_side\n",
    "        self.b = base\n",
    "\n",
    "    def area_iso(self):\n",
    "        h = math.sqrt((self.a ** 2) - (self.b / 2) ** 2)\n",
    "        area = 1/2 * self.b * h\n",
    "        print(f\"Area: {area} Cm²\")\n",
    "    def perimeter_iso(self):\n",
    "        perimeter = 2 * self.a + self.b\n",
    "        print(f\"Perimeter: {perimeter} cm\")\n",
    "isosceles = Isosceles(5, 3)\n",
    "isosceles.area_iso()\n",
    "isosceles.perimeter_iso()"
   ]
  },
  {
   "cell_type": "code",
   "execution_count": null,
   "id": "b85873e5-b6e2-4499-993f-6d995d360717",
   "metadata": {},
   "outputs": [],
   "source": []
  }
 ],
 "metadata": {
  "kernelspec": {
   "display_name": "Python 3 (ipykernel)",
   "language": "python",
   "name": "python3"
  },
  "language_info": {
   "codemirror_mode": {
    "name": "ipython",
    "version": 3
   },
   "file_extension": ".py",
   "mimetype": "text/x-python",
   "name": "python",
   "nbconvert_exporter": "python",
   "pygments_lexer": "ipython3",
   "version": "3.12.5"
  }
 },
 "nbformat": 4,
 "nbformat_minor": 5
}
