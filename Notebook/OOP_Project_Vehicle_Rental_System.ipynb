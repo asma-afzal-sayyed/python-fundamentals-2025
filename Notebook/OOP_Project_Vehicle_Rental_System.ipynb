{
 "cells": [
  {
   "cell_type": "markdown",
   "id": "f07a4276-b89c-4e5c-86de-31873df5d362",
   "metadata": {},
   "source": [
    "## 5️⃣ Vehicle Rental System\n",
    "\n",
    "#### Classes:\n",
    "##### Vehicle, Car, Bike, Customer, Rental\n",
    "\n",
    "#### OOP Concepts:\n",
    "##### Inheritance\n",
    "##### Method Overriding → different rent calculation\n",
    "##### Abstraction → abstract base class Vehicle"
   ]
  },
  {
   "cell_type": "code",
   "execution_count": 1,
   "id": "183aaf1b-0f78-45fd-9686-38f345704017",
   "metadata": {},
   "outputs": [
    {
     "name": "stdout",
     "output_type": "stream",
     "text": [
      "\n",
      "===== Vehicle Rental System =====\n",
      "1. Show All Vehicles\n",
      "2. Rent a Vehicle\n",
      "3. Return a Vehicle\n",
      "4. Exit\n"
     ]
    },
    {
     "name": "stdin",
     "output_type": "stream",
     "text": [
      "Enter your choice:  1\n"
     ]
    },
    {
     "name": "stdout",
     "output_type": "stream",
     "text": [
      "\n",
      "--- Vehicle List ---\n",
      "ID: C1 | Toyota Corolla | Rent/Day: ₹2000 | Available\n",
      "ID: C2 | Honda Civic | Rent/Day: ₹2500 | Available\n",
      "ID: B1 | Yamaha R15 | Rent/Day: ₹800 | Available\n",
      "ID: B2 | Kawasaki Ninja | Rent/Day: ₹1200 | Available\n",
      "\n",
      "===== Vehicle Rental System =====\n",
      "1. Show All Vehicles\n",
      "2. Rent a Vehicle\n",
      "3. Return a Vehicle\n",
      "4. Exit\n"
     ]
    },
    {
     "name": "stdin",
     "output_type": "stream",
     "text": [
      "Enter your choice:  2\n"
     ]
    },
    {
     "name": "stdout",
     "output_type": "stream",
     "text": [
      "\n",
      "--- Vehicle List ---\n",
      "ID: C1 | Toyota Corolla | Rent/Day: ₹2000 | Available\n",
      "ID: C2 | Honda Civic | Rent/Day: ₹2500 | Available\n",
      "ID: B1 | Yamaha R15 | Rent/Day: ₹800 | Available\n",
      "ID: B2 | Kawasaki Ninja | Rent/Day: ₹1200 | Available\n"
     ]
    },
    {
     "name": "stdin",
     "output_type": "stream",
     "text": [
      "\n",
      "Enter Vehicle ID to rent:  B2\n",
      "Enter Customer Name:  Asma\n",
      "Enter number of days:  5\n"
     ]
    },
    {
     "name": "stdout",
     "output_type": "stream",
     "text": [
      "\n",
      "✅ Kawasaki Ninja rented to Asma for 5 days.\n",
      "💰 Total Rent: ₹6300.00\n",
      "\n",
      "===== Vehicle Rental System =====\n",
      "1. Show All Vehicles\n",
      "2. Rent a Vehicle\n",
      "3. Return a Vehicle\n",
      "4. Exit\n"
     ]
    },
    {
     "name": "stdin",
     "output_type": "stream",
     "text": [
      "Enter your choice:  3\n",
      "\n",
      "Enter Vehicle ID to return:  B2\n"
     ]
    },
    {
     "name": "stdout",
     "output_type": "stream",
     "text": [
      "✅ Kawasaki Ninja returned successfully!\n",
      "\n",
      "===== Vehicle Rental System =====\n",
      "1. Show All Vehicles\n",
      "2. Rent a Vehicle\n",
      "3. Return a Vehicle\n",
      "4. Exit\n"
     ]
    },
    {
     "name": "stdin",
     "output_type": "stream",
     "text": [
      "Enter your choice:  4\n"
     ]
    },
    {
     "name": "stdout",
     "output_type": "stream",
     "text": [
      "👋 Thank you for using Vehicle Rental System!\n"
     ]
    }
   ],
   "source": [
    "from abc import ABC, abstractmethod\n",
    "\n",
    "\n",
    "class Vehicle(ABC):\n",
    "    def __init__(self, vehicle_id, brand, model, rent_per_day):\n",
    "        self.vehicle_id = vehicle_id\n",
    "        self.brand = brand\n",
    "        self.model = model\n",
    "        self.rent_per_day = rent_per_day\n",
    "        self.is_rented = False\n",
    "\n",
    "    @abstractmethod\n",
    "    def calculate_rent(self, days):\n",
    "        pass\n",
    "\n",
    "    def display_info(self):\n",
    "        print(f\"ID: {self.vehicle_id} | {self.brand} {self.model} | Rent/Day: ₹{self.rent_per_day} | {'Rented' if self.is_rented else 'Available'}\")\n",
    "\n",
    "\n",
    "class Car(Vehicle):\n",
    "    def __init__(self, vehicle_id, brand, model, rent_per_day, seats):\n",
    "        super().__init__(vehicle_id, brand, model, rent_per_day)\n",
    "        self.seats = seats\n",
    "\n",
    "    def calculate_rent(self, days):\n",
    "        # 10% discount for 7+ days\n",
    "        total = self.rent_per_day * days\n",
    "        if days >= 7:\n",
    "            total *= 0.9\n",
    "        return total\n",
    "\n",
    "\n",
    "class Bike(Vehicle):\n",
    "    def __init__(self, vehicle_id, brand, model, rent_per_day, engine_cc):\n",
    "        super().__init__(vehicle_id, brand, model, rent_per_day)\n",
    "        self.engine_cc = engine_cc\n",
    "\n",
    "    def calculate_rent(self, days):\n",
    "        # 5% surcharge for high-cc bikes\n",
    "        total = self.rent_per_day * days\n",
    "        if self.engine_cc > 200:\n",
    "            total *= 1.05\n",
    "        return total\n",
    "\n",
    "\n",
    "class Customer:\n",
    "    def __init__(self, customer_id, name):\n",
    "        self.customer_id = customer_id\n",
    "        self.name = name\n",
    "\n",
    "\n",
    "class Rental:\n",
    "    def __init__(self):\n",
    "        self.vehicles = []\n",
    "        self.customers = []\n",
    "        self.rentals = []\n",
    "\n",
    "    def add_vehicle(self, vehicle):\n",
    "        self.vehicles.append(vehicle)\n",
    "\n",
    "    def add_customer(self, customer):\n",
    "        self.customers.append(customer)\n",
    "\n",
    "    def show_vehicles(self):\n",
    "        print(\"\\n--- Vehicle List ---\")\n",
    "        for v in self.vehicles:\n",
    "            v.display_info()\n",
    "\n",
    "    def rent_vehicle(self):\n",
    "        self.show_vehicles()\n",
    "        vid = input(\"\\nEnter Vehicle ID to rent: \")\n",
    "        customer_name = input(\"Enter Customer Name: \")\n",
    "        days = int(input(\"Enter number of days: \"))\n",
    "\n",
    "        vehicle = next((v for v in self.vehicles if v.vehicle_id == vid and not v.is_rented), None)\n",
    "        if not vehicle:\n",
    "            print(\"❌ Vehicle not available.\")\n",
    "            return\n",
    "\n",
    "        customer = next((c for c in self.customers if c.name == customer_name), None)\n",
    "        if not customer:\n",
    "            cid = \"C\" + str(len(self.customers) + 1)\n",
    "            customer = Customer(cid, customer_name)\n",
    "            self.add_customer(customer)\n",
    "\n",
    "        rent_amount = vehicle.calculate_rent(days)\n",
    "        vehicle.is_rented = True\n",
    "        self.rentals.append((customer, vehicle, days, rent_amount))\n",
    "\n",
    "        print(f\"\\n✅ {vehicle.brand} {vehicle.model} rented to {customer.name} for {days} days.\")\n",
    "        print(f\"💰 Total Rent: ₹{rent_amount:.2f}\")\n",
    "\n",
    "    def return_vehicle(self):\n",
    "        vid = input(\"\\nEnter Vehicle ID to return: \")\n",
    "        vehicle = next((v for v in self.vehicles if v.vehicle_id == vid and v.is_rented), None)\n",
    "        if not vehicle:\n",
    "            print(\"❌ Invalid vehicle ID or vehicle not rented.\")\n",
    "            return\n",
    "        vehicle.is_rented = False\n",
    "        print(f\"✅ {vehicle.brand} {vehicle.model} returned successfully!\")\n",
    "\n",
    "\n",
    "def main():\n",
    "    system = Rental()\n",
    "\n",
    "    # Add some vehicles\n",
    "    system.add_vehicle(Car(\"C1\", \"Toyota\", \"Corolla\", 2000, 5))\n",
    "    system.add_vehicle(Car(\"C2\", \"Honda\", \"Civic\", 2500, 5))\n",
    "    system.add_vehicle(Bike(\"B1\", \"Yamaha\", \"R15\", 800, 155))\n",
    "    system.add_vehicle(Bike(\"B2\", \"Kawasaki\", \"Ninja\", 1200, 300))\n",
    "\n",
    "    while True:\n",
    "        print(\"\\n===== Vehicle Rental System =====\")\n",
    "        print(\"1. Show All Vehicles\")\n",
    "        print(\"2. Rent a Vehicle\")\n",
    "        print(\"3. Return a Vehicle\")\n",
    "        print(\"4. Exit\")\n",
    "\n",
    "        choice = input(\"Enter your choice: \")\n",
    "\n",
    "        if choice == \"1\":\n",
    "            system.show_vehicles()\n",
    "        elif choice == \"2\":\n",
    "            system.rent_vehicle()\n",
    "        elif choice == \"3\":\n",
    "            system.return_vehicle()\n",
    "        elif choice == \"4\":\n",
    "            print(\"👋 Thank you for using Vehicle Rental System!\")\n",
    "            break\n",
    "        else:\n",
    "            print(\"❌ Invalid choice. Try again.\")\n",
    "\n",
    "if __name__ == \"__main__\":\n",
    "    main()\n"
   ]
  },
  {
   "cell_type": "code",
   "execution_count": null,
   "id": "5640773c-1ca3-4255-9ec9-4df12950b840",
   "metadata": {},
   "outputs": [],
   "source": []
  }
 ],
 "metadata": {
  "kernelspec": {
   "display_name": "Python 3 (ipykernel)",
   "language": "python",
   "name": "python3"
  },
  "language_info": {
   "codemirror_mode": {
    "name": "ipython",
    "version": 3
   },
   "file_extension": ".py",
   "mimetype": "text/x-python",
   "name": "python",
   "nbconvert_exporter": "python",
   "pygments_lexer": "ipython3",
   "version": "3.12.5"
  }
 },
 "nbformat": 4,
 "nbformat_minor": 5
}
