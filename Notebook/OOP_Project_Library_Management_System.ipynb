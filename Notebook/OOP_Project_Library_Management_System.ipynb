{
 "cells": [
  {
   "cell_type": "markdown",
   "id": "fcb4b16c-a95a-4f7e-8443-db7364f8dfb9",
   "metadata": {},
   "source": [
    "## 1️⃣ Library Management System\n",
    "\n",
    "#### Classes:\n",
    "##### Member → represents a library member\n",
    "##### Library → manages books & members\n",
    "\n",
    "#### OOP Concepts:\n",
    "##### Encapsulation → private attributes\n",
    "##### Inheritance → Student & Teacher inherit from Member\n",
    "##### Polymorphism → get_role() behaves differently\n",
    "##### Abstraction → abstract base class Person"
   ]
  },
  {
   "cell_type": "code",
   "execution_count": 6,
   "id": "c3ae4395-e0d4-4e19-8183-b6a8e0e5f85b",
   "metadata": {},
   "outputs": [
    {
     "name": "stdout",
     "output_type": "stream",
     "text": [
      "\n",
      "=== Library Book Borrow System ===\n"
     ]
    },
    {
     "name": "stdin",
     "output_type": "stream",
     "text": [
      "Enter user type (student/staff):  student\n",
      "Enter your name:  Asma\n",
      "Enter your ID:  165\n"
     ]
    },
    {
     "name": "stdout",
     "output_type": "stream",
     "text": [
      "\n",
      "📚 Available Books:\n",
      "[1] Python Crash Course by Eric Matthes - ✅ Available\n",
      "[2] Machine Learning by Tom Mitchell - ✅ Available\n",
      "[3] Data Science Handbook by Jake VanderPlas - ✅ Available\n"
     ]
    },
    {
     "name": "stdin",
     "output_type": "stream",
     "text": [
      "\n",
      "Enter the code (ID) of the book you want to borrow:  1\n"
     ]
    },
    {
     "name": "stdout",
     "output_type": "stream",
     "text": [
      "\n",
      "✅ Book Issued Successfully!\n",
      "Book ID: 1\n",
      "Book Name: Python Crash Course\n",
      "Issued To: Asma (Student)\n",
      "Issue Date: 28-10-2025\n",
      "Return Date: 04-11-2025\n"
     ]
    }
   ],
   "source": [
    "from abc import ABC, abstractmethod\n",
    "from datetime import datetime, timedelta\n",
    "\n",
    "# --- Abstraction ---\n",
    "class User(ABC):\n",
    "    def __init__(self, name, user_id):\n",
    "        self.name = name\n",
    "        self.user_id = user_id\n",
    "\n",
    "    @abstractmethod\n",
    "    def get_role(self):\n",
    "        pass\n",
    "\n",
    "\n",
    "# --- Encapsulation ---\n",
    "class Book:\n",
    "    def __init__(self, book_id, title, author):\n",
    "        self.__book_id = book_id\n",
    "        self.__title = title\n",
    "        self.__author = author\n",
    "        self.__is_available = True\n",
    "\n",
    "    def get_details(self):\n",
    "        status = \"✅ Available\" if self.__is_available else \"❌ Borrowed\"\n",
    "        return f\"[{self.__book_id}] {self.__title} by {self.__author} - {status}\"\n",
    "\n",
    "    def is_available(self):\n",
    "        return self.__is_available\n",
    "\n",
    "    def borrow(self):\n",
    "        self.__is_available = False\n",
    "\n",
    "    def get_id(self):\n",
    "        return self.__book_id\n",
    "\n",
    "    def get_title(self):\n",
    "        return self.__title\n",
    "\n",
    "\n",
    "# --- Inheritance + Polymorphism ---\n",
    "class Student(User):\n",
    "    def get_role(self):\n",
    "        return \"Student\"\n",
    "\n",
    "\n",
    "class Teacher(User):\n",
    "    def get_role(self):\n",
    "        return \"Teacher\"\n",
    "\n",
    "\n",
    "# --- Library Management ---\n",
    "class Library:\n",
    "    def __init__(self):\n",
    "        self.books = []\n",
    "        self.users = []\n",
    "\n",
    "    def add_book(self, book):\n",
    "        self.books.append(book)\n",
    "\n",
    "    def add_user(self, user):\n",
    "        self.users.append(user)\n",
    "\n",
    "    def show_books(self):\n",
    "        print(\"\\n📚 Available Books:\")\n",
    "        for book in self.books:\n",
    "            print(book.get_details())\n",
    "\n",
    "    def find_book_by_id(self, book_id):\n",
    "        for book in self.books:\n",
    "            if book.get_id() == book_id:\n",
    "                return book\n",
    "        return None\n",
    "\n",
    "    def borrow_book(self):\n",
    "        print(\"\\n=== Library Book Borrow System ===\")\n",
    "        user_type = input(\"Enter user type (student/staff): \").strip().lower()\n",
    "        name = input(\"Enter your name: \")\n",
    "        user_id = input(\"Enter your ID: \")\n",
    "\n",
    "        # Create user based on type\n",
    "        if user_type == \"student\":\n",
    "            user = Student(name, user_id)\n",
    "        elif user_type in (\"staff\", \"teacher\"):\n",
    "            user = Teacher(name, user_id)\n",
    "        else:\n",
    "            print(\"\\n❌ Invalid user type! Please enter 'student' or 'staff'.\")\n",
    "            return\n",
    "\n",
    "        self.add_user(user)\n",
    "\n",
    "        # Show available books\n",
    "        self.show_books()\n",
    "        try:\n",
    "            book_code = int(input(\"\\nEnter the code (ID) of the book you want to borrow: \"))\n",
    "        except ValueError:\n",
    "            print(\"\\n❌ Invalid input! Please enter a number for book code.\")\n",
    "            return\n",
    "\n",
    "        book = self.find_book_by_id(book_code)\n",
    "        if book:\n",
    "            if book.is_available():\n",
    "                book.borrow()\n",
    "                issue_date = datetime.now()\n",
    "\n",
    "                print(\"\\n✅ Book Issued Successfully!\")\n",
    "                print(f\"Book ID: {book.get_id()}\")\n",
    "                print(f\"Book Name: {book.get_title()}\")\n",
    "                print(f\"Issued To: {user.name} ({user.get_role()})\")\n",
    "                print(f\"Issue Date: {issue_date.strftime('%d-%m-%Y')}\")\n",
    "\n",
    "                # Return date only for students\n",
    "                if isinstance(user, Student):\n",
    "                    return_date = issue_date + timedelta(days=7)\n",
    "                    print(f\"Return Date: {return_date.strftime('%d-%m-%Y')}\")\n",
    "                else:\n",
    "                    print(\"Return Date: No due date (Staff member)\")\n",
    "            else:\n",
    "                print(\"\\n⚠️ Sorry, this book is already borrowed.\")\n",
    "        else:\n",
    "            print(\"\\n❌ Book not found with this code.\")\n",
    "\n",
    "\n",
    "# --- Example Usage ---\n",
    "lib = Library()\n",
    "\n",
    "# Add books to library\n",
    "lib.add_book(Book(1, \"Python Crash Course\", \"Eric Matthes\"))\n",
    "lib.add_book(Book(2, \"Machine Learning\", \"Tom Mitchell\"))\n",
    "lib.add_book(Book(3, \"Data Science Handbook\", \"Jake VanderPlas\"))\n",
    "\n",
    "# Run interactive borrow feature\n",
    "lib.borrow_book()\n"
   ]
  },
  {
   "cell_type": "code",
   "execution_count": 7,
   "id": "f8333e25-0583-4a2f-88d1-ef3e6066ce16",
   "metadata": {},
   "outputs": [
    {
     "name": "stdout",
     "output_type": "stream",
     "text": [
      "\n",
      "=== Library Book Borrow System ===\n"
     ]
    },
    {
     "name": "stdin",
     "output_type": "stream",
     "text": [
      "Enter user type (student/staff):  staff\n",
      "Enter your name:  Priti\n",
      "Enter your ID:  101\n"
     ]
    },
    {
     "name": "stdout",
     "output_type": "stream",
     "text": [
      "\n",
      "📚 Available Books:\n",
      "[1] Python Crash Course by Eric Matthes - ❌ Borrowed\n",
      "[2] Machine Learning by Tom Mitchell - ✅ Available\n",
      "[3] Data Science Handbook by Jake VanderPlas - ✅ Available\n"
     ]
    },
    {
     "name": "stdin",
     "output_type": "stream",
     "text": [
      "\n",
      "Enter the code (ID) of the book you want to borrow:  3\n"
     ]
    },
    {
     "name": "stdout",
     "output_type": "stream",
     "text": [
      "\n",
      "✅ Book Issued Successfully!\n",
      "Book ID: 3\n",
      "Book Name: Data Science Handbook\n",
      "Issued To: Priti (Teacher)\n",
      "Issue Date: 28-10-2025\n",
      "Return Date: No due date (Staff member)\n"
     ]
    }
   ],
   "source": [
    "lib.borrow_book()"
   ]
  },
  {
   "cell_type": "code",
   "execution_count": null,
   "id": "7f2e7b30-922a-4c30-8ad3-3bcedb19bf3f",
   "metadata": {},
   "outputs": [],
   "source": []
  }
 ],
 "metadata": {
  "kernelspec": {
   "display_name": "Python 3 (ipykernel)",
   "language": "python",
   "name": "python3"
  },
  "language_info": {
   "codemirror_mode": {
    "name": "ipython",
    "version": 3
   },
   "file_extension": ".py",
   "mimetype": "text/x-python",
   "name": "python",
   "nbconvert_exporter": "python",
   "pygments_lexer": "ipython3",
   "version": "3.12.5"
  }
 },
 "nbformat": 4,
 "nbformat_minor": 5
}
