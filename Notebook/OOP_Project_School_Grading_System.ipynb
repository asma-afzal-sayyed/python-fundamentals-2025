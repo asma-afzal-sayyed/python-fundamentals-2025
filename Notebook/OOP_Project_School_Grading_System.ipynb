{
 "cells": [
  {
   "cell_type": "markdown",
   "id": "da41abe2-6c4b-44ac-b34f-57ae084720ef",
   "metadata": {},
   "source": [
    "## 6️⃣ School Grading System\n",
    "\n",
    "#### Classes:\n",
    "##### Person, Student, Teacher, Grade\n",
    "\n",
    "#### OOP Concepts:\n",
    "##### Inheritance\n",
    "##### Composition → private marks\n",
    "##### Polymorphism → different grading rules"
   ]
  },
  {
   "cell_type": "code",
   "execution_count": 3,
   "id": "f126ed9f-0aa0-4403-a475-2f563cb93d65",
   "metadata": {},
   "outputs": [
    {
     "name": "stdout",
     "output_type": "stream",
     "text": [
      "=== SCHOOL GRADING SYSTEM ===\n"
     ]
    },
    {
     "name": "stdin",
     "output_type": "stream",
     "text": [
      "Enter teacher name:  Aayushi\n",
      "Enter teacher age:  30\n",
      "Enter subject:  IoT\n",
      "\n",
      "Enter number of students:  5\n"
     ]
    },
    {
     "name": "stdout",
     "output_type": "stream",
     "text": [
      "\n",
      "--- Student 1 ---\n"
     ]
    },
    {
     "name": "stdin",
     "output_type": "stream",
     "text": [
      "Enter student name:  Asma\n",
      "Enter student age:  20\n",
      "Enter level (HighSchool/College):  College\n",
      "Enter marks separated by space:  90 80 85 88 82\n"
     ]
    },
    {
     "name": "stdout",
     "output_type": "stream",
     "text": [
      "\n",
      "--- Student 2 ---\n"
     ]
    },
    {
     "name": "stdin",
     "output_type": "stream",
     "text": [
      "Enter student name:  John\n",
      "Enter student age:  25\n",
      "Enter level (HighSchool/College):  College\n",
      "Enter marks separated by space:  67 87 77 88 70\n"
     ]
    },
    {
     "name": "stdout",
     "output_type": "stream",
     "text": [
      "\n",
      "--- Student 3 ---\n"
     ]
    },
    {
     "name": "stdin",
     "output_type": "stream",
     "text": [
      "Enter student name:  Arpita\n",
      "Enter student age:  20\n",
      "Enter level (HighSchool/College):  College\n",
      "Enter marks separated by space:  91 89 87 76 80\n"
     ]
    },
    {
     "name": "stdout",
     "output_type": "stream",
     "text": [
      "\n",
      "--- Student 4 ---\n"
     ]
    },
    {
     "name": "stdin",
     "output_type": "stream",
     "text": [
      "Enter student name:  Sadiya\n",
      "Enter student age:  22\n",
      "Enter level (HighSchool/College):  College\n",
      "Enter marks separated by space:  77 76 68 60 81\n"
     ]
    },
    {
     "name": "stdout",
     "output_type": "stream",
     "text": [
      "\n",
      "--- Student 5 ---\n"
     ]
    },
    {
     "name": "stdin",
     "output_type": "stream",
     "text": [
      "Enter student name:  Jameel\n",
      "Enter student age:  28\n",
      "Enter level (HighSchool/College):  College\n",
      "Enter marks separated by space:  88 90 92 81 89\n"
     ]
    },
    {
     "name": "stdout",
     "output_type": "stream",
     "text": [
      "\n",
      "=== GRADING RESULTS ===\n",
      "Name: Aayushi, Age: 30\n",
      "Subject: IoT\n",
      "\n",
      "Teacher Aayushi is grading Asma in IoT.\n",
      "Name: Asma, Age: 20\n",
      "Level: College\n",
      "Marks: [90, 80, 85, 88, 82]\n",
      "Average: 85.00\n",
      "Grade: A\n",
      "\n",
      "\n",
      "Teacher Aayushi is grading John in IoT.\n",
      "Name: John, Age: 25\n",
      "Level: College\n",
      "Marks: [67, 87, 77, 88, 70]\n",
      "Average: 77.80\n",
      "Grade: B\n",
      "\n",
      "\n",
      "Teacher Aayushi is grading Arpita in IoT.\n",
      "Name: Arpita, Age: 20\n",
      "Level: College\n",
      "Marks: [91, 89, 87, 76, 80]\n",
      "Average: 84.60\n",
      "Grade: B\n",
      "\n",
      "\n",
      "Teacher Aayushi is grading Sadiya in IoT.\n",
      "Name: Sadiya, Age: 22\n",
      "Level: College\n",
      "Marks: [77, 76, 68, 60, 81]\n",
      "Average: 72.40\n",
      "Grade: B\n",
      "\n",
      "\n",
      "Teacher Aayushi is grading Jameel in IoT.\n",
      "Name: Jameel, Age: 28\n",
      "Level: College\n",
      "Marks: [88, 90, 92, 81, 89]\n",
      "Average: 88.00\n",
      "Grade: A\n",
      "\n"
     ]
    }
   ],
   "source": [
    "class Person:\n",
    "    def __init__(self, name, age):\n",
    "        self.name = name\n",
    "        self.age = age\n",
    "\n",
    "    def display_info(self):\n",
    "        print(f\"Name: {self.name}, Age: {self.age}\")\n",
    "\n",
    "\n",
    "class Grade:\n",
    "    def __init__(self):\n",
    "        self.__marks = []  # private attribute\n",
    "\n",
    "    def add_marks(self, marks):\n",
    "        self.__marks.extend(marks)\n",
    "\n",
    "    def get_average(self):\n",
    "        if not self.__marks:\n",
    "            return 0\n",
    "        return sum(self.__marks) / len(self.__marks)\n",
    "\n",
    "    def get_marks(self):\n",
    "        return self.__marks\n",
    "\n",
    "\n",
    "class Student(Person):\n",
    "    def __init__(self, name, age, level):\n",
    "        super().__init__(name, age)\n",
    "        self.level = level\n",
    "        self.grade = Grade()  \n",
    "        \n",
    "    def calculate_grade(self):\n",
    "        avg = self.grade.get_average()\n",
    "        if self.level.lower() == \"highschool\":\n",
    "            if avg >= 90:\n",
    "                return \"A\"\n",
    "            elif avg >= 75:\n",
    "                return \"B\"\n",
    "            elif avg >= 60:\n",
    "                return \"C\"\n",
    "            else:\n",
    "                return \"F\"\n",
    "        else:  \n",
    "            if avg >= 85:\n",
    "                return \"A\"\n",
    "            elif avg >= 70:\n",
    "                return \"B\"\n",
    "            elif avg >= 55:\n",
    "                return \"C\"\n",
    "            else:\n",
    "                return \"F\"\n",
    "\n",
    "    def display_info(self):\n",
    "        super().display_info()\n",
    "        print(f\"Level: {self.level}\")\n",
    "        print(f\"Marks: {self.grade.get_marks()}\")\n",
    "        print(f\"Average: {self.grade.get_average():.2f}\")\n",
    "        print(f\"Grade: {self.calculate_grade()}\\n\")\n",
    "\n",
    "\n",
    "class Teacher(Person):\n",
    "    def __init__(self, name, age, subject):\n",
    "        super().__init__(name, age)\n",
    "        self.subject = subject\n",
    "\n",
    "    def grade_student(self, student):\n",
    "        print(f\"\\nTeacher {self.name} is grading {student.name} in {self.subject}.\")\n",
    "        student.display_info()\n",
    "\n",
    "    def display_info(self):\n",
    "        super().display_info()\n",
    "        print(f\"Subject: {self.subject}\")\n",
    "\n",
    "\n",
    "\n",
    "print(\"=== SCHOOL GRADING SYSTEM ===\")\n",
    "\n",
    "teacher_name = input(\"Enter teacher name: \")\n",
    "teacher_age = int(input(\"Enter teacher age: \"))\n",
    "subject = input(\"Enter subject: \")\n",
    "\n",
    "teacher = Teacher(teacher_name, teacher_age, subject)\n",
    "\n",
    "num_students = int(input(\"\\nEnter number of students: \"))\n",
    "students = []\n",
    "\n",
    "for i in range(num_students):\n",
    "    print(f\"\\n--- Student {i+1} ---\")\n",
    "    name = input(\"Enter student name: \")\n",
    "    age = int(input(\"Enter student age: \"))\n",
    "    level = input(\"Enter level (HighSchool/College): \")\n",
    "    student = Student(name, age, level)\n",
    "\n",
    "    marks = list(map(int, input(\"Enter marks separated by space: \").split()))\n",
    "    student.grade.add_marks(marks)\n",
    "\n",
    "    students.append(student)\n",
    "\n",
    "print(\"\\n=== GRADING RESULTS ===\")\n",
    "teacher.display_info()\n",
    "for s in students:\n",
    "    teacher.grade_student(s)\n"
   ]
  },
  {
   "cell_type": "code",
   "execution_count": null,
   "id": "96f7d77d-84d3-4b64-b19e-787cb66ac576",
   "metadata": {},
   "outputs": [],
   "source": []
  }
 ],
 "metadata": {
  "kernelspec": {
   "display_name": "Python 3 (ipykernel)",
   "language": "python",
   "name": "python3"
  },
  "language_info": {
   "codemirror_mode": {
    "name": "ipython",
    "version": 3
   },
   "file_extension": ".py",
   "mimetype": "text/x-python",
   "name": "python",
   "nbconvert_exporter": "python",
   "pygments_lexer": "ipython3",
   "version": "3.12.5"
  }
 },
 "nbformat": 4,
 "nbformat_minor": 5
}
