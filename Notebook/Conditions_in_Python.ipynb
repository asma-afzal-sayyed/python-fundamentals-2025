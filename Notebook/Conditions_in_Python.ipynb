{
 "cells": [
  {
   "cell_type": "markdown",
   "id": "360ef376-0da2-4cfb-aaf0-5f0f15de55c8",
   "metadata": {},
   "source": [
    "# Python Conditional Statements Practice"
   ]
  },
  {
   "cell_type": "code",
   "execution_count": 5,
   "id": "2cf6c600-7e29-4102-a635-088ec6623893",
   "metadata": {},
   "outputs": [
    {
     "name": "stdin",
     "output_type": "stream",
     "text": [
      "Enter a number 55\n"
     ]
    },
    {
     "name": "stdout",
     "output_type": "stream",
     "text": [
      "55 is only divisible by 5\n"
     ]
    }
   ],
   "source": [
    "''' Q1. write a program to check if any number entered by the user is divisible by 3 and 5,\n",
    "15- is divisible by both 3 and 5\n",
    "10- is divisible by only 5, not 3\n",
    "9- is divisible by only 3, not 5\n",
    "23- is not divisible by both of them, like 3 and 5.'''\n",
    "\n",
    "num=int(input(\"Enter a number\"))\n",
    "if num%3==0 and num%5==0:\n",
    "    print(f\"{num} is divisible by 3 and 5\")\n",
    "elif num%3==0 and num%5!=0:\n",
    "    print(f\"{num} is only divisible by 3\")\n",
    "elif num%5==0 and num%3!=0:\n",
    "   print(f\"{num} is only divisible by 5\")\n",
    "else:\n",
    "   print(f\"{num} not divisible by both number\")"
   ]
  },
  {
   "cell_type": "code",
   "execution_count": 6,
   "id": "70d24402-d12f-4fb2-a37a-6de31205f747",
   "metadata": {},
   "outputs": [
    {
     "name": "stdin",
     "output_type": "stream",
     "text": [
      "Enter a string to check vowel and consonant S\n"
     ]
    },
    {
     "name": "stdout",
     "output_type": "stream",
     "text": [
      "S is consonant\n"
     ]
    }
   ],
   "source": [
    "''' Q2. Accepts any character from the user and guesses vowel and consonant.\n",
    "aA - vowel\n",
    "bB - consonant'''\n",
    "\n",
    "user=input(\"Enter a string to check vowel and consonant\")\n",
    "if (user == 'a' or user == 'e' or\n",
    "     user == 'i' or user == 'o' or user == 'u' or  user == 'A' or user == 'E' or\n",
    "    user == 'I' or user == 'O' or user == 'U'):\n",
    "    print(f\"{user} is vowel\")\n",
    "else:\n",
    "   print(f\"{user} is consonant\")"
   ]
  },
  {
   "cell_type": "code",
   "execution_count": 9,
   "id": "fc8f1026-8668-48cd-b06b-28dcab9a4c42",
   "metadata": {},
   "outputs": [
    {
     "name": "stdin",
     "output_type": "stream",
     "text": [
      "Enter shopping Amount:  2197\n"
     ]
    },
    {
     "name": "stdout",
     "output_type": "stream",
     "text": [
      "Total Shpping Price:₹2197.0\n",
      "Total disount:₹20%\n",
      "Discount Amount:₹439.4\n",
      "Amount to Pay:₹1757.6\n"
     ]
    }
   ],
   "source": [
    "''' Q3. A shop will give you a discount of 20% if the cost of purchase is more than 2000, and if purchased amount will be 1000 more than that, \n",
    "it will be discounted by 10%, and if the purchased amount is less than 1000- \"No discount\" as well as print how much more shopping is needed \n",
    "Amount will be used to get the minimum discount.'''\n",
    "\n",
    "amount = float(input(\"Enter shopping Amount: \"))\n",
    "\n",
    "if amount>0:\n",
    "    if amount>=2000:\n",
    "        dis = \"20%\"\n",
    "        discountAmount = (amount*20)/100\n",
    "        # print(discountAmount)\n",
    "        amountPay=amount-discountAmount\n",
    "        print(f\"Total Shpping Price:₹{amount}\\nTotal disount:₹{dis}\\nDiscount Amount:₹{discountAmount}\\nAmount to Pay:₹{amountPay}\")\n",
    "    elif amount>=1000 and amount<2000:\n",
    "        dis = \"10%\"\n",
    "        discountAmount = (amount*10)/100\n",
    "        # print(discountAmount)\n",
    "        amountPay=amount-discountAmount\n",
    "        print(f\"Total Shpping Price:₹{amount}\\nTotal disount:₹{dis}\\nDiscount Amount:₹{discountAmount}\\nAmount to Pay:₹{amountPay}\")\n",
    "    else:\n",
    "        dis = \"0%\"\n",
    "        discountAmount = (amount*0)/100\n",
    "        # print(discountAmount)\n",
    "        amountPay=amount-discountAmount\n",
    "        requiredAmount = 1000-amount\n",
    "        print(f\"Total Shpping Price:₹{amount}\\nTotal disount:₹{dis}\\nDiscount Amount:₹{discountAmount}\\nAmount to Pay:₹{amountPay}\")\n",
    "        print(f\"If you want to get 10% discount then you need to:₹ {requiredAmount} more to shop.\")\n",
    "\n",
    "else:\n",
    "    print(\"Enter a Valid Amount.Amount Can't be in Negative.\")"
   ]
  },
  {
   "cell_type": "code",
   "execution_count": 11,
   "id": "d3330267-666d-4ad9-9b79-9f548c8b1c3c",
   "metadata": {},
   "outputs": [
    {
     "name": "stdin",
     "output_type": "stream",
     "text": [
      "Enter your Salary ₹:  50000\n",
      "Enter the time period of your Service:  10\n"
     ]
    },
    {
     "name": "stdout",
     "output_type": "stream",
     "text": [
      "Your Current Salary:₹50000.0\n",
      "Bonus Percent:₹8%\n",
      "Bonus Amount:₹4000.0\n",
      "Total Salary:₹54000.0\n"
     ]
    }
   ],
   "source": [
    "''' Q4. A company will decide to give a bonus to the employee according to the following criteria:\n",
    "@ Period of the service ------------------------> Bonus\n",
    "@ More than 10 Years ---------------------------> 10%\n",
    "@ >=6 and <=10 ---------------------------------> 8%\n",
    "@ <6 -------------------------------------------> 5%\n",
    "Ask the user for their salary and years of service, and then calculate the bonus amount is, and display the total salary after the increment of the \n",
    "bonus.'''\n",
    "\n",
    "salary = float(input(\"Enter your Salary ₹: \"))\n",
    "timePeriod = int(input(\"Enter the time period of your Service: \"))\n",
    "\n",
    "if salary>0:\n",
    "    if timePeriod>0 and timePeriod<50:\n",
    "        if timePeriod>10:\n",
    "            bonusPercent = \"10%\"\n",
    "            bonus = ((salary*10)/100)\n",
    "            # print(bonus)\n",
    "            totalSal = salary+bonus\n",
    "            print(f\"Your Current Salary:₹{salary}\\nBonus Percent:₹{bonusPercent}\\nBonus Amount:₹{bonus}\\nTotal Salary:₹{totalSal}\")\n",
    "        elif timePeriod>=6 and timePeriod<=10:\n",
    "            bonusPercent = \"8%\"\n",
    "            bonus = ((salary*8)/100)\n",
    "            # print(bonus)\n",
    "            totalSal = salary+bonus\n",
    "            print(f\"Your Current Salary:₹{salary}\\nBonus Percent:₹{bonusPercent}\\nBonus Amount:₹{bonus}\\nTotal Salary:₹{totalSal}\")\n",
    "        else:\n",
    "            bonusPercent = \"5%\"\n",
    "            bonus = ((salary*5)/100)\n",
    "            # print(bonus)\n",
    "            totalSal = salary+bonus\n",
    "            print(f\"Your Current Salary:₹{salary}\\nBonus Percent:₹{bonusPercent}\\nBonus Amount:₹{bonus}\\nTotal Salary:₹{totalSal}\")\n",
    "    else:\n",
    "        print(\"Enter a Valid Time Period\")\n",
    "else:\n",
    "    print(\"Enter a Valid Salary.\")"
   ]
  },
  {
   "cell_type": "code",
   "execution_count": 12,
   "id": "ce26bcc1-f23c-4194-be1f-4f0d33938106",
   "metadata": {},
   "outputs": [
    {
     "name": "stdin",
     "output_type": "stream",
     "text": [
      "Enter total number of working days:  300\n",
      "Enter total number of absent days:  10\n"
     ]
    },
    {
     "name": "stdout",
     "output_type": "stream",
     "text": [
      "Attendance Percentage: 96.66666666666667%\n",
      "You are allowed to sit for the exam.\n"
     ]
    }
   ],
   "source": [
    "''' Q5. Accept the following from the user and calculate the percentage of class attendance.\n",
    "@ Total number of working days. = 250\n",
    "@ Total number of absences.\n",
    "@ if the percentage is less than 75%, then the student will not sit the exam.'''\n",
    "\n",
    "total_days = int(input(\"Enter total number of working days: \"))\n",
    "absent_days = int(input(\"Enter total number of absent days: \"))\n",
    "present_days = total_days - absent_days\n",
    "percentage = (present_days / total_days) * 100\n",
    "print(f\"Attendance Percentage: {percentage:}%\")\n",
    "if percentage < 75:\n",
    "    print(\"You are not allowed to sit for the exam.\")\n",
    "else:\n",
    "    print(\"You are allowed to sit for the exam.\")"
   ]
  },
  {
   "cell_type": "code",
   "execution_count": 13,
   "id": "4beb1cf6-af31-42e2-bda0-c8ee065a6908",
   "metadata": {},
   "outputs": [
    {
     "name": "stdin",
     "output_type": "stream",
     "text": [
      "Enter the price of the bike 120000\n"
     ]
    },
    {
     "name": "stdout",
     "output_type": "stream",
     "text": [
      "as the price of the bike is : 120000\n",
      "So the tax is 18000.0 \n",
      "Total price of the bike after tax: 138000.0\n"
     ]
    }
   ],
   "source": [
    "''' Q6. Write a program to accept the cost price of a bike and display the road tax to be paid according to the following criteria:\n",
    "@ Cost price of bike (in RS) ------------> Tax:\n",
    "@ >100000 -------------------------------> 15%\n",
    "@ >50000 and <=100000--------------------> 10%\n",
    "@ <50000 --------------------------------> 8%'''\n",
    "\n",
    "\n",
    "bike_price = int(input(\"Enter the price of the bike\" ))\n",
    "if bike_price > 0:\n",
    "    if bike_price > 100000:\n",
    "        tax = bike_price * 0.15\n",
    "        total_price = tax + bike_price\n",
    "        print(f\"as the price of the bike is : {bike_price}\\nSo the tax is {tax} \\nTotal price of the bike after tax: {total_price}\")\n",
    "    \n",
    "    elif bike_price > 50000 and bike_price <= 100000:\n",
    "        tax = bike_price * 0.10\n",
    "        total_price = tax + bike_price\n",
    "        print(f\"as the price of the bike is : {bike_price}\\nSo the tax is{tax} \\nTotal price of the bike after tax: {total_price}\")\n",
    "    \n",
    "    \n",
    "    elif bike_price <= 50000:\n",
    "        tax = bike_price * 0.08\n",
    "        total_price = tax + bike_price\n",
    "        print(f\"as the price of the bike is : {bike_price}\\nSo the tax is {tax}\\n total price of the bike after tax:{total_price}\")\n",
    "else:\n",
    "    print(\"Enter a positive bike price\")"
   ]
  },
  {
   "cell_type": "code",
   "execution_count": 16,
   "id": "17542839-d881-46d1-b544-b231a5e08fb0",
   "metadata": {},
   "outputs": [
    {
     "name": "stdin",
     "output_type": "stream",
     "text": [
      "Enter the person's age:  39\n"
     ]
    },
    {
     "name": "stdout",
     "output_type": "stream",
     "text": [
      "Age is less than 60 → Person is NOT a Senior Citizen\n"
     ]
    }
   ],
   "source": [
    "''' Q7. Write a program to check person is a senior citizen or not?'''\n",
    "\n",
    "age = int(input(\"Enter the person's age: \"))\n",
    "\n",
    "if age >= 60:\n",
    "    print(\"Age is greater than or equal to 60 → Person is a Senior Citizen\")\n",
    "else:\n",
    "    print(\"Age is less than 60 → Person is NOT a Senior Citizen\")"
   ]
  },
  {
   "cell_type": "code",
   "execution_count": 19,
   "id": "a2d8a1c3-deda-4398-b422-f6790969e288",
   "metadata": {},
   "outputs": [
    {
     "name": "stdin",
     "output_type": "stream",
     "text": [
      "Enter a Character  @\n"
     ]
    },
    {
     "name": "stdout",
     "output_type": "stream",
     "text": [
      "The character is special character\n"
     ]
    }
   ],
   "source": [
    "''' Q8. Determine if a character is uppercase, lowercase, a digit or a special character.'''\n",
    "\n",
    "user=input(\"Enter a Character \")\n",
    "if user.isupper():\n",
    "    print(\"The character is uppercase\")\n",
    "elif user.islower():\n",
    "    print(\"The character is lowercase\")  \n",
    "elif user.isdigit():\n",
    "    print(\"The character is a Digit.\")    \n",
    "elif user.isalnum():\n",
    "    print(\"Alphanumeric\")\n",
    "else:\n",
    "    print(\"The character is special character\")"
   ]
  },
  {
   "cell_type": "code",
   "execution_count": null,
   "id": "149018eb-7729-42f1-893c-6d1ea8255023",
   "metadata": {},
   "outputs": [],
   "source": []
  }
 ],
 "metadata": {
  "kernelspec": {
   "display_name": "Python 3 (ipykernel)",
   "language": "python",
   "name": "python3"
  },
  "language_info": {
   "codemirror_mode": {
    "name": "ipython",
    "version": 3
   },
   "file_extension": ".py",
   "mimetype": "text/x-python",
   "name": "python",
   "nbconvert_exporter": "python",
   "pygments_lexer": "ipython3",
   "version": "3.12.5"
  }
 },
 "nbformat": 4,
 "nbformat_minor": 5
}
