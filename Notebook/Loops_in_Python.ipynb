{
 "cells": [
  {
   "cell_type": "markdown",
   "id": "2450ed06-3e96-4ab1-ba23-b999131e006f",
   "metadata": {},
   "source": [
    "# Python Exercises on Loops and Iteration"
   ]
  },
  {
   "cell_type": "code",
   "execution_count": 16,
   "id": "7ff08bd6-0565-4a94-9983-58fbdaa24642",
   "metadata": {},
   "outputs": [
    {
     "name": "stdout",
     "output_type": "stream",
     "text": [
      "For Loop:\n",
      "2 4 6 8 10 12 14 16 18 20 22 24 26 28 30 32 34 36 38 40 42 44 46 48 50 52 54 56 58 60 62 64 66 68 70 72 74 76 78 80 82 84 86 88 90 92 94 96 98 100 \n",
      "\n",
      "While Loop\n",
      "2 4 6 8 10 12 14 16 18 20 22 24 26 28 30 32 34 36 38 40 42 44 46 48 50 52 54 56 58 60 62 64 66 68 70 72 74 76 78 80 82 84 86 88 90 92 94 96 98 100 "
     ]
    }
   ],
   "source": [
    "# Q1. Print all even numbers between 1 and 100.\n",
    "\n",
    "#For Loop\n",
    "print(\"For Loop:\")\n",
    "for num in range(1,101):\n",
    "    if num % 2 == 0:\n",
    "        print(num,end=\" \")\n",
    "\n",
    "\n",
    "# While Loop\n",
    "print(\"\\n\")\n",
    "print(\"While Loop\")\n",
    "i=1\n",
    "while i<=100:\n",
    "    if i%2==0:\n",
    "        print(i,end=\" \")\n",
    "    i +=1"
   ]
  },
  {
   "cell_type": "code",
   "execution_count": 22,
   "id": "0329595e-dd49-4800-9eb8-64ec91ea7029",
   "metadata": {},
   "outputs": [
    {
     "name": "stdout",
     "output_type": "stream",
     "text": [
      "For Loop\n"
     ]
    },
    {
     "name": "stdin",
     "output_type": "stream",
     "text": [
      "Enter a number 7\n"
     ]
    },
    {
     "name": "stdout",
     "output_type": "stream",
     "text": [
      "7x1=7\n",
      "7x2=14\n",
      "7x3=21\n",
      "7x4=28\n",
      "7x5=35\n",
      "7x6=42\n",
      "7x7=49\n",
      "7x8=56\n",
      "7x9=63\n",
      "7x10=70\n",
      "\n",
      "\n",
      "While Loop\n"
     ]
    },
    {
     "name": "stdin",
     "output_type": "stream",
     "text": [
      "Enter a number 23\n"
     ]
    },
    {
     "name": "stdout",
     "output_type": "stream",
     "text": [
      "23X1=23\n",
      "23X2=46\n",
      "23X3=69\n",
      "23X4=92\n",
      "23X5=115\n",
      "23X6=138\n",
      "23X7=161\n",
      "23X8=184\n",
      "23X9=207\n",
      "23X10=230\n"
     ]
    }
   ],
   "source": [
    "# Q2. Print the table of a given number (e.g., input 5 → 5, 10, 15, … 50).\n",
    "\n",
    "#For Loop\n",
    "print(\"For Loop\")\n",
    "user=int(input(\"Enter a number\"))\n",
    "for i in range(1,11):\n",
    "    print(f\"{user}x{i}={user*i}\")\n",
    "\n",
    "#While Loop\n",
    "print(\"\\n\")\n",
    "print(\"While Loop\")\n",
    "num=int(input(\"Enter a number\"))\n",
    "i = 1\n",
    "j = 11\n",
    "while i<j:\n",
    "    print(f\"{num}X{i}={num*i}\")\n",
    "    i+=1"
   ]
  },
  {
   "cell_type": "code",
   "execution_count": 23,
   "id": "64832839-02ec-4b0d-9397-78071d1efe14",
   "metadata": {},
   "outputs": [
    {
     "name": "stdout",
     "output_type": "stream",
     "text": [
      "Your List is: [1, 2, 3, 4, 5, 6, 7, 8, 9, 10, 11, 12, 13, 14, 15, 16, 17, 18, 19, 20] = 210\n",
      "List of Even Numbers is: [2, 4, 6, 8, 10, 12, 14, 16, 18, 20] = 110\n",
      "list of Odd numbers is: [1, 3, 5, 7, 9, 11, 13, 15, 17, 19] = 100\n"
     ]
    }
   ],
   "source": [
    "# Q3. Write a program to find the sum of 1-20 even and odd numbers.\n",
    "\n",
    "i=1\n",
    "j=20\n",
    "\n",
    "listVal = []\n",
    "sumVal = 0\n",
    "evenList=[]\n",
    "oddList =[]\n",
    "sumEven=0\n",
    "sumOdd=0\n",
    "while i<=j:\n",
    "    # print(i)\n",
    "    \n",
    "    if i%2==0:\n",
    "        evenList.append(i)\n",
    "        sumEven+=i\n",
    "    else:\n",
    "        oddList.append(i)\n",
    "        sumOdd+=i\n",
    "    listVal.append(i)\n",
    "    \n",
    "    sumVal=sumVal+i\n",
    "    i+=1\n",
    "print(\"Your List is:\",listVal,\"=\",sumVal)\n",
    "print(\"List of Even Numbers is:\",evenList,\"=\",sumEven)\n",
    "print(\"list of Odd numbers is:\",oddList,\"=\",sumOdd)"
   ]
  },
  {
   "cell_type": "code",
   "execution_count": 25,
   "id": "055b3968-74cb-4617-bfb0-1f3d783c0a9b",
   "metadata": {},
   "outputs": [
    {
     "name": "stdout",
     "output_type": "stream",
     "text": [
      "For Loop\n"
     ]
    },
    {
     "name": "stdin",
     "output_type": "stream",
     "text": [
      "Enter the number:  5\n"
     ]
    },
    {
     "name": "stdout",
     "output_type": "stream",
     "text": [
      "Factorial is: 120\n",
      "\n",
      "\n",
      "While Loop\n"
     ]
    },
    {
     "name": "stdin",
     "output_type": "stream",
     "text": [
      "Enter the number:  8\n"
     ]
    },
    {
     "name": "stdout",
     "output_type": "stream",
     "text": [
      "Factorial is: 40320\n"
     ]
    }
   ],
   "source": [
    "# Q4. Calculate the factorial of a number using a loop.\n",
    "\n",
    "#For Loop\n",
    "print(\"For Loop\")\n",
    "n = int(input(\"Enter the number: \"))\n",
    "fact = 1\n",
    "for i in range(1, n+1):\n",
    "    fact = fact*i\n",
    "print(\"Factorial is:\",fact)\n",
    "\n",
    "#While Loop\n",
    "print(\"\\n\")\n",
    "print(\"While Loop\")\n",
    "i = 1\n",
    "n = int(input(\"Enter the number: \"))\n",
    "fact = 1\n",
    "while i <= n:\n",
    "    fact = fact*i\n",
    "    i += 1\n",
    "print(\"Factorial is:\",fact)"
   ]
  },
  {
   "cell_type": "code",
   "execution_count": 26,
   "id": "ba0de37a-b1b7-4551-910f-4b570536686b",
   "metadata": {},
   "outputs": [
    {
     "name": "stdout",
     "output_type": "stream",
     "text": [
      "For Loop\n"
     ]
    },
    {
     "name": "stdin",
     "output_type": "stream",
     "text": [
      "Enter any value:  12 \n",
      "Enter any value:  56\n",
      "Enter any value:  98\n",
      "Enter any value:  34\n",
      "Enter any value:  0\n"
     ]
    },
    {
     "name": "stdout",
     "output_type": "stream",
     "text": [
      "Generate Value is: [12, 56, 98, 34]\n",
      "The sum of the user entered value is: 200\n",
      "\n",
      "\n",
      "While Loop\n"
     ]
    },
    {
     "name": "stdin",
     "output_type": "stream",
     "text": [
      "Enter a number 54\n",
      "Enter a number 90\n",
      "Enter a number -98\n",
      "Enter a number 32\n",
      "Enter a number 0\n"
     ]
    },
    {
     "name": "stdout",
     "output_type": "stream",
     "text": [
      "Numbers are [54, 90, -98, 32]\n",
      "Sum of numbers: 78\n"
     ]
    }
   ],
   "source": [
    "# Q5.Take numbers as input until the user enters 0, then print their sum.\n",
    "\n",
    "# Infinite For loop\n",
    "print(\"For Loop\")\n",
    "listVal = []\n",
    "sum1 = 0\n",
    "for i in iter(int,1):\n",
    "    userVal = int(input(\"Enter any value: \"))\n",
    "    if userVal == 0:\n",
    "        break\n",
    "    listVal.append(userVal)\n",
    "    sum1 = sum1+userVal\n",
    "\n",
    "print(\"Generate Value is:\",listVal)\n",
    "print(\"The sum of the user entered value is:\",sum1)\n",
    "\n",
    "# Infinite While Loop\n",
    "print(\"\\n\")\n",
    "print(\"While Loop\")\n",
    "total = 0\n",
    "listVal=[]\n",
    "while True:\n",
    "    num = int(input(\"Enter a number\"))\n",
    "    if num == 0:\n",
    "        break\n",
    "    listVal.append(num)\n",
    "    total += num\n",
    "print(\"Numbers are\", listVal)\n",
    "print(\"Sum of numbers:\", total)"
   ]
  },
  {
   "cell_type": "code",
   "execution_count": 28,
   "id": "54a47741-82e8-41ff-ac0c-9bbaca1c5bfe",
   "metadata": {},
   "outputs": [
    {
     "name": "stdout",
     "output_type": "stream",
     "text": [
      "For Loop\n"
     ]
    },
    {
     "name": "stdin",
     "output_type": "stream",
     "text": [
      "Enter Password User\n"
     ]
    },
    {
     "name": "stdout",
     "output_type": "stream",
     "text": [
      "Incorrect Password! Try again\n"
     ]
    },
    {
     "name": "stdin",
     "output_type": "stream",
     "text": [
      "Enter Password 123\n"
     ]
    },
    {
     "name": "stdout",
     "output_type": "stream",
     "text": [
      "Incorrect Password! Try again\n"
     ]
    },
    {
     "name": "stdin",
     "output_type": "stream",
     "text": [
      "Enter Password Admin\n"
     ]
    },
    {
     "name": "stdout",
     "output_type": "stream",
     "text": [
      "Correct Password\n",
      "\n",
      "\n",
      "While Loop\n"
     ]
    },
    {
     "name": "stdin",
     "output_type": "stream",
     "text": [
      "Enter Password admin\n"
     ]
    },
    {
     "name": "stdout",
     "output_type": "stream",
     "text": [
      "Incorrect Password! Try again\n"
     ]
    },
    {
     "name": "stdin",
     "output_type": "stream",
     "text": [
      "Enter Password Admin\n"
     ]
    },
    {
     "name": "stdout",
     "output_type": "stream",
     "text": [
      "Correct Password\n"
     ]
    }
   ],
   "source": [
    "# Q6. Keep asking for a password until the correct one is entered\n",
    "\n",
    "# For Loop\n",
    "print(\"For Loop\")\n",
    "password=\"Admin\"\n",
    "for i in iter(int,1):\n",
    "    n=input(\"Enter Password\")\n",
    "    if n==password:\n",
    "        print(\"Correct Password\")\n",
    "        break\n",
    "    else:\n",
    "        print(\"Incorrect Password! Try again\")\n",
    "\n",
    "# While Loop\n",
    "print(\"\\n\")\n",
    "print(\"While Loop\")\n",
    "password=\"Admin\"\n",
    "while True:\n",
    "    n=input(\"Enter Password\")\n",
    "    if n==password:\n",
    "        print(\"Correct Password\")\n",
    "        break\n",
    "    else:\n",
    "        print(\"Incorrect Password! Try again\")"
   ]
  },
  {
   "cell_type": "code",
   "execution_count": 29,
   "id": "01bc464b-d82f-4223-8d2f-05cda0ee3e5f",
   "metadata": {},
   "outputs": [
    {
     "name": "stdout",
     "output_type": "stream",
     "text": [
      "For Loop\n",
      "*\n",
      "**\n",
      "***\n",
      "****\n",
      "\n",
      "\n",
      "While Loop\n",
      "*\n",
      "**\n",
      "***\n",
      "****\n"
     ]
    }
   ],
   "source": [
    "''' # Q7. Print this pattern:\n",
    "\n",
    "*\n",
    "**\n",
    "***\n",
    "**** '''\n",
    "\n",
    "# For Loop\n",
    "print(\"For Loop\")\n",
    "for i in range(1,5):\n",
    "    print(\"*\"*i)\n",
    "\n",
    "# While Loop\n",
    "print(\"\\n\")\n",
    "print(\"While Loop\")\n",
    "i=1\n",
    "while i<=4:\n",
    "    print(\"*\"*i)\n",
    "    i+=1"
   ]
  },
  {
   "cell_type": "markdown",
   "id": "64d2e3d4-ba62-4562-ae36-8785a8863e49",
   "metadata": {},
   "source": [
    "## Nested Loop"
   ]
  },
  {
   "cell_type": "code",
   "execution_count": 31,
   "id": "1a8dc449-24ab-4cc7-ae80-a55d13c020b3",
   "metadata": {},
   "outputs": [
    {
     "name": "stdout",
     "output_type": "stream",
     "text": [
      "2 3 5 7 11 13 17 19 23 29 31 37 41 43 47 53 59 61 67 71 73 79 83 89 97 "
     ]
    }
   ],
   "source": [
    "# Q8. Print all prime numbers between 1 and 100.\n",
    "\n",
    "# Nested Loop\n",
    "for i in range(2,101):\n",
    "    for j in range(2,101):\n",
    "        if i % j == 0:\n",
    "            break\n",
    "    if i == j:\n",
    "        print(i, end=\" \")"
   ]
  },
  {
   "cell_type": "code",
   "execution_count": 32,
   "id": "2c2625be-aa9b-4060-80f8-702531168663",
   "metadata": {},
   "outputs": [
    {
     "name": "stdout",
     "output_type": "stream",
     "text": [
      "For Loop\n",
      "1\n",
      "12\n",
      "123\n",
      "1234\n",
      "\n",
      "\n",
      "While Loop\n",
      "1\n",
      "12\n",
      "123\n",
      "1234\n"
     ]
    }
   ],
   "source": [
    "# Q9. Print number pattern:\n",
    "# 1\n",
    "# 12\n",
    "# 123\n",
    "# 1234\n",
    "\n",
    "# For Loop\n",
    "print(\"For Loop\")\n",
    "for i in range(1,5):\n",
    "    for j in range(1, i+1):  # 1,5 = 1234\n",
    "        print(j,end=\"\")\n",
    "    print()\n",
    "\n",
    "# While Loop\n",
    "print(\"\\n\")\n",
    "print(\"While Loop\")\n",
    "n = 4\n",
    "i = 1\n",
    "while i <= n:\n",
    "    j = 1\n",
    "    while j <= i:\n",
    "        print(j, end=\"\")\n",
    "        j += 1\n",
    "\n",
    "    i += 1\n",
    "    print()"
   ]
  },
  {
   "cell_type": "code",
   "execution_count": 33,
   "id": "80635d6f-d584-46a0-9419-2968950e9202",
   "metadata": {},
   "outputs": [
    {
     "name": "stdout",
     "output_type": "stream",
     "text": [
      "For Loop\n",
      "1 \n",
      "2 3 \n",
      "4 5 6 \n",
      "7 8 9 10 \n",
      "\n",
      "\n",
      "While Loop\n",
      "1 \n",
      "2 3 \n",
      "4 5 6 \n",
      "7 8 9 10 \n"
     ]
    }
   ],
   "source": [
    "# Q10. Print Floyd's Triangle:\n",
    "# 1\n",
    "# 2 3\n",
    "# 4 5 6\n",
    "# 7 8 9 10\n",
    "\n",
    "# For Loop\n",
    "print(\"For Loop\")\n",
    "n= 1\n",
    "for i in range(1, 5):  \n",
    "    for j in range(0,i): # 0,2\n",
    "        print(n, end=\" \")\n",
    "        n += 1\n",
    "    print()\n",
    "\n",
    "# While Loop\n",
    "print(\"\\n\")\n",
    "print(\"While Loop\")\n",
    "n = 1\n",
    "i = 1\n",
    "while i <= 4:\n",
    "    j = 1\n",
    "    while j <= i:\n",
    "        print(n, end=\" \")\n",
    "        n += 1\n",
    "        j += 1\n",
    "    print()\n",
    "    i += 1"
   ]
  },
  {
   "cell_type": "code",
   "execution_count": null,
   "id": "2aa29cf7-3f91-47e4-9c4f-76b7c00e99a7",
   "metadata": {},
   "outputs": [],
   "source": []
  }
 ],
 "metadata": {
  "kernelspec": {
   "display_name": "Python 3 (ipykernel)",
   "language": "python",
   "name": "python3"
  },
  "language_info": {
   "codemirror_mode": {
    "name": "ipython",
    "version": 3
   },
   "file_extension": ".py",
   "mimetype": "text/x-python",
   "name": "python",
   "nbconvert_exporter": "python",
   "pygments_lexer": "ipython3",
   "version": "3.12.5"
  }
 },
 "nbformat": 4,
 "nbformat_minor": 5
}
