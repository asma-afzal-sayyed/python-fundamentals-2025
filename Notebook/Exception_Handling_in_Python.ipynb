{
 "cells": [
  {
   "cell_type": "code",
   "execution_count": 1,
   "id": "6eeed66f-8b27-4eaf-8c63-8534fdcc0d06",
   "metadata": {},
   "outputs": [
    {
     "name": "stdout",
     "output_type": "stream",
     "text": [
      "Error: Cannot divide by zero.\n"
     ]
    }
   ],
   "source": [
    "# 1. ZeroDivisionError (Occurs when you divide a number by zero.)\n",
    "\n",
    "try:\n",
    "    x = 10 / 0\n",
    "except ZeroDivisionError:\n",
    "    print(\"Error: Cannot divide by zero.\")"
   ]
  },
  {
   "cell_type": "code",
   "execution_count": 2,
   "id": "c9f36c37-0273-42f7-a2f2-6143d3601fbe",
   "metadata": {},
   "outputs": [
    {
     "name": "stdout",
     "output_type": "stream",
     "text": [
      "Error: Variable not defined.\n"
     ]
    }
   ],
   "source": [
    "# 2. NameError (Occurs when you use a variable that hasn’t been defined.)\n",
    "\n",
    "try:\n",
    "    print(y)\n",
    "except NameError:\n",
    "    print(\"Error: Variable not defined.\")"
   ]
  },
  {
   "cell_type": "code",
   "execution_count": 3,
   "id": "8e516902-c61c-4bf3-8615-8da03cf4d116",
   "metadata": {},
   "outputs": [
    {
     "name": "stdout",
     "output_type": "stream",
     "text": [
      "Error: Invalid value.\n"
     ]
    }
   ],
   "source": [
    "# 3. ValueError (Occurs when a function receives a value of the correct type but invalid value.)\n",
    "\n",
    "try:\n",
    "    num = int(\"abc\")  # Cannot convert string \"abc\" to int\n",
    "except ValueError:\n",
    "    print(\"Error: Invalid value.\")"
   ]
  },
  {
   "cell_type": "code",
   "execution_count": 4,
   "id": "ec95ae98-0daf-422b-8852-2c7fc9098531",
   "metadata": {},
   "outputs": [
    {
     "name": "stdout",
     "output_type": "stream",
     "text": [
      "Error: File not found or cannot be opened.\n"
     ]
    }
   ],
   "source": [
    "# 4. IOError (or OSError in newer Python) (Occurs when there is an input/output operation failure, like opening a file that doesn’t exist.)\n",
    "\n",
    "try:\n",
    "    file = open(\"nonexistent.txt\", \"r\")\n",
    "except IOError:\n",
    "    print(\"Error: File not found or cannot be opened.\")"
   ]
  },
  {
   "cell_type": "code",
   "execution_count": 7,
   "id": "a53c6d4d-d46b-4025-a175-de23a9f81320",
   "metadata": {},
   "outputs": [
    {
     "name": "stdin",
     "output_type": "stream",
     "text": [
      "Enter something:  Python\n"
     ]
    }
   ],
   "source": [
    "# 5. EOFError (Occurs when input() reaches End Of File (no input given).)\n",
    "\n",
    "try:\n",
    "    data = input(\"Enter something: \")  # Press Ctrl+D (Linux/Mac) or Ctrl+Z (Windows) to trigger\n",
    "except EOFError:\n",
    "    print(\"Error: No input provided.\")"
   ]
  },
  {
   "cell_type": "code",
   "execution_count": 9,
   "id": "207725c5-d845-4811-8568-3ebf65014670",
   "metadata": {},
   "outputs": [
    {
     "name": "stdout",
     "output_type": "stream",
     "text": [
      "Error: Key not found in dictionary.\n"
     ]
    }
   ],
   "source": [
    "# 6. KeyError (Occurs when a dictionary key is not found.)\n",
    "\n",
    "my_dict = {\"name\": \"Asma\"}\n",
    "try:\n",
    "    print(my_dict[\"age\"])\n",
    "except KeyError:\n",
    "    print(\"Error: Key not found in dictionary.\")"
   ]
  },
  {
   "cell_type": "code",
   "execution_count": 8,
   "id": "dad37ab6-e260-4bca-a203-4f5d8c1229dd",
   "metadata": {},
   "outputs": [
    {
     "name": "stdout",
     "output_type": "stream",
     "text": [
      "This code gives IndexError\n",
      "hello world\n"
     ]
    }
   ],
   "source": [
    "# 7. Index Error\n",
    "\n",
    "list1 = [10,20,30,40,50,True,False,'apple']\n",
    "try:\n",
    "    list1[8]\n",
    "except IndexError:\n",
    "    print('This code gives IndexError')\n",
    "print(\"hello world\")"
   ]
  },
  {
   "cell_type": "code",
   "execution_count": 12,
   "id": "af4a5cc9-fdea-43cd-a503-6b78f0a9d1b8",
   "metadata": {},
   "outputs": [
    {
     "name": "stdin",
     "output_type": "stream",
     "text": [
      "Enter a number:  34\n"
     ]
    },
    {
     "name": "stdout",
     "output_type": "stream",
     "text": [
      "The entered value is: 34.0\n"
     ]
    },
    {
     "name": "stdin",
     "output_type": "stream",
     "text": [
      "Enter a number:  12\n"
     ]
    },
    {
     "name": "stdout",
     "output_type": "stream",
     "text": [
      "The Entered number is: 12.0\n",
      "The process is runnning with the value = 2.8333333333333335\n"
     ]
    }
   ],
   "source": [
    "# default except\n",
    "\n",
    "num1 = float(input(\"Enter a number: \"))\n",
    "print(\"The entered value is:\",num1)\n",
    "\n",
    "try:\n",
    "    num2 = float(input(\"Enter a number: \"))\n",
    "    print(\"The Entered number is:\",num2)\n",
    "    value = num1/num2\n",
    "    print(\"The process is runnning with the value =\",value)\n",
    "except:\n",
    "    print(\"The process is not running\")"
   ]
  },
  {
   "cell_type": "code",
   "execution_count": 14,
   "id": "6a53a87a-db70-47f3-83d9-32dc55ea51bb",
   "metadata": {},
   "outputs": [
    {
     "name": "stdin",
     "output_type": "stream",
     "text": [
      "Enter a number:  65\n",
      "Enter any value:  0\n"
     ]
    },
    {
     "name": "stdout",
     "output_type": "stream",
     "text": [
      "This function gives a ZeroDivisonError since a number cannot divided by 0.\n"
     ]
    }
   ],
   "source": [
    "# multiple Except Blocks\n",
    "\n",
    "num1 = float(input(\"Enter a number: \"))\n",
    "\n",
    "try:\n",
    "    num2 = float(input(\"Enter any value: \"))\n",
    "    value = num1/num2\n",
    "    print(\"This process is running with value :\",value)\n",
    "except ZeroDivisionError:\n",
    "    print(\"This function gives a ZeroDivisonError since a number cannot divided by 0.\")\n",
    "except ValueError:\n",
    "    print(\"You should provide a number.\")\n",
    "except:\n",
    "    print(\"Something went wrong\")"
   ]
  },
  {
   "cell_type": "code",
   "execution_count": 17,
   "id": "2c99fee0-6866-4556-9ecc-7183d83312be",
   "metadata": {},
   "outputs": [
    {
     "name": "stdin",
     "output_type": "stream",
     "text": [
      "Enter a number:  54\n",
      "Enter any value:  29\n"
     ]
    },
    {
     "name": "stdout",
     "output_type": "stream",
     "text": [
      "35\n",
      "This process is running with value : 1.8620689655172413\n"
     ]
    }
   ],
   "source": [
    "# try/except/else\n",
    "\n",
    "try:\n",
    "    num1 = float(input(\"Enter a number: \"))\n",
    "    num2 = float(input(\"Enter any value: \"))\n",
    "    value = num1/num2\n",
    "\n",
    "except ZeroDivisionError:\n",
    "    print(\"This function gives a ZeroDivisonError since a number cannot divided by 0.\")\n",
    "except ValueError:\n",
    "    print(\"You should provide a number.\")\n",
    "except:\n",
    "    print(\"Something went wrong\")\n",
    "else:\n",
    "    a=15\n",
    "    b = 20\n",
    "    print(a+b)\n",
    "    print(\"This process is running with value :\",value)"
   ]
  },
  {
   "cell_type": "code",
   "execution_count": 19,
   "id": "dd3fc1b0-c9d7-4258-9504-438ba74800cc",
   "metadata": {},
   "outputs": [
    {
     "name": "stdin",
     "output_type": "stream",
     "text": [
      "Enter a number:  78\n",
      "Enter any value:  66\n"
     ]
    },
    {
     "name": "stdout",
     "output_type": "stream",
     "text": [
      "35\n",
      "This process is running with value : 1.1818181818181819\n",
      "This process is completed.\n"
     ]
    }
   ],
   "source": [
    "# try/except/else/finally\n",
    "\n",
    "try:\n",
    "    num1 = float(input(\"Enter a number: \"))\n",
    "    num2 = float(input(\"Enter any value: \"))\n",
    "    value = num1/num2\n",
    "\n",
    "except ZeroDivisionError:\n",
    "    print(\"This function gives a ZeroDivisonError since a number cannot divided by 0.\")\n",
    "except ValueError:\n",
    "    print(\"You should provide a number.\")\n",
    "except:\n",
    "    print(\"Something went wrong\")\n",
    "else:\n",
    "    a=15\n",
    "    b = 20\n",
    "    print(a+b)\n",
    "    print(\"This process is running with value :\",value)\n",
    "\n",
    "finally:\n",
    "    print(\"This process is completed.\")"
   ]
  },
  {
   "cell_type": "code",
   "execution_count": null,
   "id": "4f184285-a9b9-4503-a0b4-c0a655c46c9c",
   "metadata": {},
   "outputs": [],
   "source": []
  }
 ],
 "metadata": {
  "kernelspec": {
   "display_name": "Python 3 (ipykernel)",
   "language": "python",
   "name": "python3"
  },
  "language_info": {
   "codemirror_mode": {
    "name": "ipython",
    "version": 3
   },
   "file_extension": ".py",
   "mimetype": "text/x-python",
   "name": "python",
   "nbconvert_exporter": "python",
   "pygments_lexer": "ipython3",
   "version": "3.12.5"
  }
 },
 "nbformat": 4,
 "nbformat_minor": 5
}
