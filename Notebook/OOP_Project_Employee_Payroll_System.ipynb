{
 "cells": [
  {
   "cell_type": "markdown",
   "id": "25355d1b-06a0-494e-8929-543bccbad4e2",
   "metadata": {},
   "source": [
    "## 4️⃣ Employee Payroll System\n",
    "\n",
    "#### Classes:\n",
    "##### Employee, FullTimeEmployee, PartTimeEmployee, Payroll\n",
    "\n",
    "#### OOP Concepts:\n",
    "##### Inheritance → different employee types\n",
    "##### Polymorphism → different salary calculations\n",
    "##### Encapsulation → private salary"
   ]
  },
  {
   "cell_type": "code",
   "execution_count": 2,
   "id": "0db15d60-6bc7-4a6c-84bb-67a40e531e0f",
   "metadata": {},
   "outputs": [
    {
     "name": "stdout",
     "output_type": "stream",
     "text": [
      "\n",
      "=== EMPLOYEE PAYROLL SYSTEM ===\n",
      "1. Add Full-Time Employee\n",
      "2. Add Part-Time Employee\n",
      "3. Process Payroll\n",
      "4. Show Payroll Summary\n",
      "5. Exit\n"
     ]
    },
    {
     "name": "stdin",
     "output_type": "stream",
     "text": [
      "Enter your choice (1-5):  1\n",
      "Enter employee name:  John\n",
      "Enter employee ID:  101\n",
      "Enter monthly salary:  40000\n"
     ]
    },
    {
     "name": "stdout",
     "output_type": "stream",
     "text": [
      "✅ Full-Time Employee 'John' added successfully!\n",
      "\n",
      "=== EMPLOYEE PAYROLL SYSTEM ===\n",
      "1. Add Full-Time Employee\n",
      "2. Add Part-Time Employee\n",
      "3. Process Payroll\n",
      "4. Show Payroll Summary\n",
      "5. Exit\n"
     ]
    },
    {
     "name": "stdin",
     "output_type": "stream",
     "text": [
      "Enter your choice (1-5):  2\n",
      "Enter employee name:  Anthony\n",
      "Enter employee ID:  102\n",
      "Enter total hours worked:  6\n",
      "Enter hourly rate:  2000\n"
     ]
    },
    {
     "name": "stdout",
     "output_type": "stream",
     "text": [
      "✅ Part-Time Employee 'Anthony' added successfully!\n",
      "\n",
      "=== EMPLOYEE PAYROLL SYSTEM ===\n",
      "1. Add Full-Time Employee\n",
      "2. Add Part-Time Employee\n",
      "3. Process Payroll\n",
      "4. Show Payroll Summary\n",
      "5. Exit\n"
     ]
    },
    {
     "name": "stdin",
     "output_type": "stream",
     "text": [
      "Enter your choice (1-5):  3\n"
     ]
    },
    {
     "name": "stdout",
     "output_type": "stream",
     "text": [
      "💰 Salaries processed successfully!\n",
      "\n",
      "=== EMPLOYEE PAYROLL SYSTEM ===\n",
      "1. Add Full-Time Employee\n",
      "2. Add Part-Time Employee\n",
      "3. Process Payroll\n",
      "4. Show Payroll Summary\n",
      "5. Exit\n"
     ]
    },
    {
     "name": "stdin",
     "output_type": "stream",
     "text": [
      "Enter your choice (1-5):  4\n"
     ]
    },
    {
     "name": "stdout",
     "output_type": "stream",
     "text": [
      "\n",
      "======= PAYROLL SUMMARY =======\n",
      "\n",
      "Employee ID: 101\n",
      "Name: John\n",
      "Salary: Rs40,000.00\n",
      "------------------------------\n",
      "\n",
      "Employee ID: 102\n",
      "Name: Anthony\n",
      "Salary: Rs12,000.00\n",
      "------------------------------\n",
      "\n",
      "=== EMPLOYEE PAYROLL SYSTEM ===\n",
      "1. Add Full-Time Employee\n",
      "2. Add Part-Time Employee\n",
      "3. Process Payroll\n",
      "4. Show Payroll Summary\n",
      "5. Exit\n"
     ]
    },
    {
     "name": "stdin",
     "output_type": "stream",
     "text": [
      "Enter your choice (1-5):  5\n"
     ]
    },
    {
     "name": "stdout",
     "output_type": "stream",
     "text": [
      "👋 Exiting Payroll System. Goodbye!\n"
     ]
    }
   ],
   "source": [
    "class Employee:\n",
    "    def __init__(self, name, emp_id):\n",
    "        self.name = name\n",
    "        self.emp_id = emp_id\n",
    "        self.__salary = 0  \n",
    "\n",
    "    def calculate_salary(self):\n",
    "        raise NotImplementedError(\"Subclass must implement this method\")\n",
    "\n",
    "    def get_salary(self):\n",
    "        return self.__salary\n",
    "\n",
    "    def set_salary(self, amount):\n",
    "        if amount >= 0:\n",
    "            self.__salary = amount\n",
    "        else:\n",
    "            print(\"Invalid salary amount!\")\n",
    "\n",
    "    def display_info(self):\n",
    "        print(f\"\\nEmployee ID: {self.emp_id}\")\n",
    "        print(f\"Name: {self.name}\")\n",
    "        print(f\"Salary: Rs{self.get_salary():,.2f}\")\n",
    "        print(\"-\" * 30)\n",
    "\n",
    "\n",
    "class FullTimeEmployee(Employee):\n",
    "    def __init__(self, name, emp_id, monthly_salary):\n",
    "        super().__init__(name, emp_id)\n",
    "        self.monthly_salary = monthly_salary\n",
    "\n",
    "    def calculate_salary(self):\n",
    "        self.set_salary(self.monthly_salary)\n",
    "\n",
    "\n",
    "class PartTimeEmployee(Employee):\n",
    "    def __init__(self, name, emp_id, hours_worked, hourly_rate):\n",
    "        super().__init__(name, emp_id)\n",
    "        self.hours_worked = hours_worked\n",
    "        self.hourly_rate = hourly_rate\n",
    "\n",
    "    def calculate_salary(self):\n",
    "        self.set_salary(self.hours_worked * self.hourly_rate)\n",
    "\n",
    "\n",
    "class Payroll:\n",
    "    def __init__(self):\n",
    "        self.employees = []\n",
    "\n",
    "    def add_employee(self, employee):\n",
    "        self.employees.append(employee)\n",
    "\n",
    "    def process_salaries(self):\n",
    "        for emp in self.employees:\n",
    "            emp.calculate_salary()\n",
    "\n",
    "    def show_payroll(self):\n",
    "        print(\"\\n======= PAYROLL SUMMARY =======\")\n",
    "        for emp in self.employees:\n",
    "            emp.display_info()\n",
    "\n",
    "\n",
    "def main():\n",
    "    payroll = Payroll()\n",
    "\n",
    "    while True:\n",
    "        print(\"\\n=== EMPLOYEE PAYROLL SYSTEM ===\")\n",
    "        print(\"1. Add Full-Time Employee\")\n",
    "        print(\"2. Add Part-Time Employee\")\n",
    "        print(\"3. Process Payroll\")\n",
    "        print(\"4. Show Payroll Summary\")\n",
    "        print(\"5. Exit\")\n",
    "\n",
    "        choice = input(\"Enter your choice (1-5): \")\n",
    "\n",
    "        if choice == \"1\":\n",
    "            name = input(\"Enter employee name: \")\n",
    "            emp_id = input(\"Enter employee ID: \")\n",
    "            monthly_salary = float(input(\"Enter monthly salary: \"))\n",
    "            emp = FullTimeEmployee(name, emp_id, monthly_salary)\n",
    "            payroll.add_employee(emp)\n",
    "            print(f\"✅ Full-Time Employee '{name}' added successfully!\")\n",
    "\n",
    "        elif choice == \"2\":\n",
    "            name = input(\"Enter employee name: \")\n",
    "            emp_id = input(\"Enter employee ID: \")\n",
    "            hours = float(input(\"Enter total hours worked: \"))\n",
    "            rate = float(input(\"Enter hourly rate: \"))\n",
    "            emp = PartTimeEmployee(name, emp_id, hours, rate)\n",
    "            payroll.add_employee(emp)\n",
    "            print(f\"✅ Part-Time Employee '{name}' added successfully!\")\n",
    "\n",
    "        elif choice == \"3\":\n",
    "            payroll.process_salaries()\n",
    "            print(\"💰 Salaries processed successfully!\")\n",
    "\n",
    "        elif choice == \"4\":\n",
    "            payroll.show_payroll()\n",
    "\n",
    "        elif choice == \"5\":\n",
    "            print(\"👋 Exiting Payroll System. Goodbye!\")\n",
    "            break\n",
    "\n",
    "        else:\n",
    "            print(\"❌ Invalid choice! Please try again.\")\n",
    "\n",
    "\n",
    "if __name__ == \"__main__\":\n",
    "    main()\n"
   ]
  },
  {
   "cell_type": "code",
   "execution_count": null,
   "id": "c75669fe-3a8e-4023-a44f-e168a3f9d468",
   "metadata": {},
   "outputs": [],
   "source": []
  }
 ],
 "metadata": {
  "kernelspec": {
   "display_name": "Python 3 (ipykernel)",
   "language": "python",
   "name": "python3"
  },
  "language_info": {
   "codemirror_mode": {
    "name": "ipython",
    "version": 3
   },
   "file_extension": ".py",
   "mimetype": "text/x-python",
   "name": "python",
   "nbconvert_exporter": "python",
   "pygments_lexer": "ipython3",
   "version": "3.12.5"
  }
 },
 "nbformat": 4,
 "nbformat_minor": 5
}
