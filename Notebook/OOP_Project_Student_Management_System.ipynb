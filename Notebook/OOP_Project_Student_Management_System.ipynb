{
 "cells": [
  {
   "cell_type": "markdown",
   "id": "e8ac975f-af4e-4281-b26f-8584e2a04fb8",
   "metadata": {},
   "source": [
    "## 2️⃣ Student Management System\n",
    "\n",
    "#### ✅ Classes:\n",
    "##### Person, Student, Teacher, Course\n",
    "#### ✅ Concepts: \n",
    "##### Inheritance, Composition, Abstraction, Encapsulation"
   ]
  },
  {
   "cell_type": "code",
   "execution_count": 4,
   "id": "31d864f6-6bba-4765-8e97-77d28b551d21",
   "metadata": {},
   "outputs": [
    {
     "name": "stdout",
     "output_type": "stream",
     "text": [
      "\n",
      "===== 🎓 Student Management System =====\n",
      "1️⃣ Add Teacher\n",
      "2️⃣ Add Student\n",
      "3️⃣ Create Course\n",
      "4️⃣ Enroll Student in Course\n",
      "5️⃣ Show All Students\n",
      "6️⃣ Show All Teachers\n",
      "7️⃣ Show All Courses\n",
      "0️⃣ Exit\n"
     ]
    },
    {
     "name": "stdin",
     "output_type": "stream",
     "text": [
      "Enter your choice:  1\n",
      "Enter Teacher Name:  Priti\n",
      "Enter Age:  45\n",
      "Enter Teacher ID:  1\n",
      "Enter Subject:  Python\n"
     ]
    },
    {
     "name": "stdout",
     "output_type": "stream",
     "text": [
      "✅ Teacher added successfully!\n",
      "\n",
      "===== 🎓 Student Management System =====\n",
      "1️⃣ Add Teacher\n",
      "2️⃣ Add Student\n",
      "3️⃣ Create Course\n",
      "4️⃣ Enroll Student in Course\n",
      "5️⃣ Show All Students\n",
      "6️⃣ Show All Teachers\n",
      "7️⃣ Show All Courses\n",
      "0️⃣ Exit\n"
     ]
    },
    {
     "name": "stdin",
     "output_type": "stream",
     "text": [
      "Enter your choice:  2\n",
      "Enter Student Name:  Asma\n",
      "Enter Age:  20\n",
      "Enter Student ID:  165\n"
     ]
    },
    {
     "name": "stdout",
     "output_type": "stream",
     "text": [
      "✅ Student added successfully!\n",
      "\n",
      "===== 🎓 Student Management System =====\n",
      "1️⃣ Add Teacher\n",
      "2️⃣ Add Student\n",
      "3️⃣ Create Course\n",
      "4️⃣ Enroll Student in Course\n",
      "5️⃣ Show All Students\n",
      "6️⃣ Show All Teachers\n",
      "7️⃣ Show All Courses\n",
      "0️⃣ Exit\n"
     ]
    },
    {
     "name": "stdin",
     "output_type": "stream",
     "text": [
      "Enter your choice:  3\n",
      "Enter Course Code:  101\n",
      "Enter Course Name:  Data Science\n"
     ]
    },
    {
     "name": "stdout",
     "output_type": "stream",
     "text": [
      "✅ Course created successfully!\n",
      "\n",
      "===== 🎓 Student Management System =====\n",
      "1️⃣ Add Teacher\n",
      "2️⃣ Add Student\n",
      "3️⃣ Create Course\n",
      "4️⃣ Enroll Student in Course\n",
      "5️⃣ Show All Students\n",
      "6️⃣ Show All Teachers\n",
      "7️⃣ Show All Courses\n",
      "0️⃣ Exit\n"
     ]
    },
    {
     "name": "stdin",
     "output_type": "stream",
     "text": [
      "Enter your choice:  4\n"
     ]
    },
    {
     "name": "stdout",
     "output_type": "stream",
     "text": [
      "\n",
      "Available Students:\n",
      "1. Asma\n"
     ]
    },
    {
     "name": "stdin",
     "output_type": "stream",
     "text": [
      "Select Student (by number):  1\n"
     ]
    },
    {
     "name": "stdout",
     "output_type": "stream",
     "text": [
      "\n",
      "Available Courses:\n",
      "1. Data Science (101)\n"
     ]
    },
    {
     "name": "stdin",
     "output_type": "stream",
     "text": [
      "Select Course (by number):  1\n"
     ]
    },
    {
     "name": "stdout",
     "output_type": "stream",
     "text": [
      "✅ Asma enrolled in Data Science\n",
      "\n",
      "===== 🎓 Student Management System =====\n",
      "1️⃣ Add Teacher\n",
      "2️⃣ Add Student\n",
      "3️⃣ Create Course\n",
      "4️⃣ Enroll Student in Course\n",
      "5️⃣ Show All Students\n",
      "6️⃣ Show All Teachers\n",
      "7️⃣ Show All Courses\n",
      "0️⃣ Exit\n"
     ]
    },
    {
     "name": "stdin",
     "output_type": "stream",
     "text": [
      "Enter your choice:  5\n"
     ]
    },
    {
     "name": "stdout",
     "output_type": "stream",
     "text": [
      "\n",
      "🎓 Student Name: Asma\n",
      "🆔 Student ID: 165\n",
      "🎂 Age: 20\n",
      "📘 Courses Enrolled: Data Science\n",
      "\n",
      "===== 🎓 Student Management System =====\n",
      "1️⃣ Add Teacher\n",
      "2️⃣ Add Student\n",
      "3️⃣ Create Course\n",
      "4️⃣ Enroll Student in Course\n",
      "5️⃣ Show All Students\n",
      "6️⃣ Show All Teachers\n",
      "7️⃣ Show All Courses\n",
      "0️⃣ Exit\n"
     ]
    },
    {
     "name": "stdin",
     "output_type": "stream",
     "text": [
      "Enter your choice:  6\n"
     ]
    },
    {
     "name": "stdout",
     "output_type": "stream",
     "text": [
      "\n",
      "👨‍🏫 Teacher Name: Priti\n",
      "🆔 Teacher ID: 1\n",
      "🎂 Age: 45\n",
      "📚 Subject: Python\n",
      "\n",
      "===== 🎓 Student Management System =====\n",
      "1️⃣ Add Teacher\n",
      "2️⃣ Add Student\n",
      "3️⃣ Create Course\n",
      "4️⃣ Enroll Student in Course\n",
      "5️⃣ Show All Students\n",
      "6️⃣ Show All Teachers\n",
      "7️⃣ Show All Courses\n",
      "0️⃣ Exit\n"
     ]
    },
    {
     "name": "stdin",
     "output_type": "stream",
     "text": [
      "Enter your choice:  7\n"
     ]
    },
    {
     "name": "stdout",
     "output_type": "stream",
     "text": [
      "\n",
      "📖 Course: Data Science (101)\n",
      "👩‍🎓 Enrolled Students:\n",
      " - Asma\n",
      "\n",
      "===== 🎓 Student Management System =====\n",
      "1️⃣ Add Teacher\n",
      "2️⃣ Add Student\n",
      "3️⃣ Create Course\n",
      "4️⃣ Enroll Student in Course\n",
      "5️⃣ Show All Students\n",
      "6️⃣ Show All Teachers\n",
      "7️⃣ Show All Courses\n",
      "0️⃣ Exit\n"
     ]
    },
    {
     "name": "stdin",
     "output_type": "stream",
     "text": [
      "Enter your choice:  8\n"
     ]
    },
    {
     "name": "stdout",
     "output_type": "stream",
     "text": [
      "⚠️ Invalid choice! Please try again.\n",
      "\n",
      "===== 🎓 Student Management System =====\n",
      "1️⃣ Add Teacher\n",
      "2️⃣ Add Student\n",
      "3️⃣ Create Course\n",
      "4️⃣ Enroll Student in Course\n",
      "5️⃣ Show All Students\n",
      "6️⃣ Show All Teachers\n",
      "7️⃣ Show All Courses\n",
      "0️⃣ Exit\n"
     ]
    },
    {
     "name": "stdin",
     "output_type": "stream",
     "text": [
      "Enter your choice:  0\n"
     ]
    },
    {
     "name": "stdout",
     "output_type": "stream",
     "text": [
      "👋 Exiting... Have a great day!\n"
     ]
    }
   ],
   "source": [
    "from abc import ABC, abstractmethod\n",
    "\n",
    "# -----------------------------\n",
    "# 🔹 Abstraction: Abstract Class Person\n",
    "# -----------------------------\n",
    "class Person(ABC):\n",
    "    def __init__(self, name, age):\n",
    "        self.__name = name\n",
    "        self.__age = age\n",
    "\n",
    "    @abstractmethod\n",
    "    def get_role(self):\n",
    "        pass\n",
    "\n",
    "    def get_name(self):\n",
    "        return self.__name\n",
    "\n",
    "    def get_age(self):\n",
    "        return self.__age\n",
    "\n",
    "\n",
    "# -----------------------------\n",
    "# 🔹 Inheritance: Student & Teacher inherit from Person\n",
    "# -----------------------------\n",
    "class Student(Person):\n",
    "    def __init__(self, name, age, student_id):\n",
    "        super().__init__(name, age)\n",
    "        self.__student_id = student_id\n",
    "        self.enrolled_courses = []\n",
    "\n",
    "    def enroll_course(self, course):\n",
    "        self.enrolled_courses.append(course)\n",
    "\n",
    "    def get_role(self):\n",
    "        return \"Student\"\n",
    "\n",
    "    def show_info(self):\n",
    "        print(f\"\\n🎓 Student Name: {self.get_name()}\")\n",
    "        print(f\"🆔 Student ID: {self.__student_id}\")\n",
    "        print(f\"🎂 Age: {self.get_age()}\")\n",
    "        print(f\"📘 Courses Enrolled: {', '.join([c.course_name for c in self.enrolled_courses]) or 'None'}\")\n",
    "\n",
    "\n",
    "class Teacher(Person):\n",
    "    def __init__(self, name, age, teacher_id, subject):\n",
    "        super().__init__(name, age)\n",
    "        self.__teacher_id = teacher_id\n",
    "        self.__subject = subject\n",
    "\n",
    "    def get_role(self):\n",
    "        return \"Teacher\"\n",
    "\n",
    "    def show_info(self):\n",
    "        print(f\"\\n👨‍🏫 Teacher Name: {self.get_name()}\")\n",
    "        print(f\"🆔 Teacher ID: {self.__teacher_id}\")\n",
    "        print(f\"🎂 Age: {self.get_age()}\")\n",
    "        print(f\"📚 Subject: {self.__subject}\")\n",
    "\n",
    "\n",
    "# -----------------------------\n",
    "# 🔹 Composition: Course has Students\n",
    "# -----------------------------\n",
    "class Course:\n",
    "    def __init__(self, code, name):\n",
    "        self.course_code = code\n",
    "        self.course_name = name\n",
    "        self.students = []\n",
    "\n",
    "    def add_student(self, student):\n",
    "        self.students.append(student)\n",
    "        student.enroll_course(self)\n",
    "\n",
    "    def show_students(self):\n",
    "        print(f\"\\n📖 Course: {self.course_name} ({self.course_code})\")\n",
    "        if not self.students:\n",
    "            print(\"⚠️ No students enrolled yet.\")\n",
    "        else:\n",
    "            print(\"👩‍🎓 Enrolled Students:\")\n",
    "            for s in self.students:\n",
    "                print(f\" - {s.get_name()}\")\n",
    "\n",
    "\n",
    "# -----------------------------\n",
    "# 🔹 Management System\n",
    "# -----------------------------\n",
    "class StudentManagementSystem:\n",
    "    def __init__(self):\n",
    "        self.students = []\n",
    "        self.teachers = []\n",
    "        self.courses = []\n",
    "\n",
    "    def add_teacher(self):\n",
    "        name = input(\"Enter Teacher Name: \")\n",
    "        age = int(input(\"Enter Age: \"))\n",
    "        t_id = input(\"Enter Teacher ID: \")\n",
    "        subject = input(\"Enter Subject: \")\n",
    "        teacher = Teacher(name, age, t_id, subject)\n",
    "        self.teachers.append(teacher)\n",
    "        print(\"✅ Teacher added successfully!\")\n",
    "\n",
    "    def add_student(self):\n",
    "        name = input(\"Enter Student Name: \")\n",
    "        age = int(input(\"Enter Age: \"))\n",
    "        s_id = input(\"Enter Student ID: \")\n",
    "        student = Student(name, age, s_id)\n",
    "        self.students.append(student)\n",
    "        print(\"✅ Student added successfully!\")\n",
    "\n",
    "    def create_course(self):\n",
    "        code = input(\"Enter Course Code: \")\n",
    "        name = input(\"Enter Course Name: \")\n",
    "        course = Course(code, name)\n",
    "        self.courses.append(course)\n",
    "        print(\"✅ Course created successfully!\")\n",
    "\n",
    "    def enroll_student(self):\n",
    "        if not self.students or not self.courses:\n",
    "            print(\"⚠️ Please make sure students and courses are added first.\")\n",
    "            return\n",
    "\n",
    "        print(\"\\nAvailable Students:\")\n",
    "        for i, s in enumerate(self.students, 1):\n",
    "            print(f\"{i}. {s.get_name()}\")\n",
    "\n",
    "        s_choice = int(input(\"Select Student (by number): \")) - 1\n",
    "        student = self.students[s_choice]\n",
    "\n",
    "        print(\"\\nAvailable Courses:\")\n",
    "        for i, c in enumerate(self.courses, 1):\n",
    "            print(f\"{i}. {c.course_name} ({c.course_code})\")\n",
    "\n",
    "        c_choice = int(input(\"Select Course (by number): \")) - 1\n",
    "        course = self.courses[c_choice]\n",
    "\n",
    "        course.add_student(student)\n",
    "        print(f\"✅ {student.get_name()} enrolled in {course.course_name}\")\n",
    "\n",
    "    def show_all_students(self):\n",
    "        if not self.students:\n",
    "            print(\"⚠️ No students found.\")\n",
    "        else:\n",
    "            for s in self.students:\n",
    "                s.show_info()\n",
    "\n",
    "    def show_all_teachers(self):\n",
    "        if not self.teachers:\n",
    "            print(\"⚠️ No teachers found.\")\n",
    "        else:\n",
    "            for t in self.teachers:\n",
    "                t.show_info()\n",
    "\n",
    "    def show_all_courses(self):\n",
    "        if not self.courses:\n",
    "            print(\"⚠️ No courses created.\")\n",
    "        else:\n",
    "            for c in self.courses:\n",
    "                c.show_students()\n",
    "\n",
    "    def run(self):\n",
    "        while True:\n",
    "            print(\"\\n===== 🎓 Student Management System =====\")\n",
    "            print(\"1️⃣ Add Teacher\")\n",
    "            print(\"2️⃣ Add Student\")\n",
    "            print(\"3️⃣ Create Course\")\n",
    "            print(\"4️⃣ Enroll Student in Course\")\n",
    "            print(\"5️⃣ Show All Students\")\n",
    "            print(\"6️⃣ Show All Teachers\")\n",
    "            print(\"7️⃣ Show All Courses\")\n",
    "            print(\"0️⃣ Exit\")\n",
    "\n",
    "            choice = input(\"Enter your choice: \")\n",
    "\n",
    "            if choice == '1':\n",
    "                self.add_teacher()\n",
    "            elif choice == '2':\n",
    "                self.add_student()\n",
    "            elif choice == '3':\n",
    "                self.create_course()\n",
    "            elif choice == '4':\n",
    "                self.enroll_student()\n",
    "            elif choice == '5':\n",
    "                self.show_all_students()\n",
    "            elif choice == '6':\n",
    "                self.show_all_teachers()\n",
    "            elif choice == '7':\n",
    "                self.show_all_courses()\n",
    "            elif choice == '0':\n",
    "                print(\"👋 Exiting... Have a great day!\")\n",
    "                break\n",
    "            else:\n",
    "                print(\"⚠️ Invalid choice! Please try again.\")\n",
    "\n",
    "\n",
    "# -----------------------------\n",
    "# 🔹 Run the System\n",
    "# -----------------------------\n",
    "if __name__ == \"__main__\":\n",
    "    system = StudentManagementSystem()\n",
    "    system.run()\n"
   ]
  },
  {
   "cell_type": "code",
   "execution_count": null,
   "id": "472cbb0e-ca3d-45dc-b002-2b49723e4b9d",
   "metadata": {},
   "outputs": [],
   "source": []
  }
 ],
 "metadata": {
  "kernelspec": {
   "display_name": "Python 3 (ipykernel)",
   "language": "python",
   "name": "python3"
  },
  "language_info": {
   "codemirror_mode": {
    "name": "ipython",
    "version": 3
   },
   "file_extension": ".py",
   "mimetype": "text/x-python",
   "name": "python",
   "nbconvert_exporter": "python",
   "pygments_lexer": "ipython3",
   "version": "3.12.5"
  }
 },
 "nbformat": 4,
 "nbformat_minor": 5
}
