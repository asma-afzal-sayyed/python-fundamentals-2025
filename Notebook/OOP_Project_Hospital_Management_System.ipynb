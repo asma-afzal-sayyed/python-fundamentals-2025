{
 "cells": [
  {
   "cell_type": "markdown",
   "id": "a3ef8709-c71b-4f9f-b6f8-14ea8acdee28",
   "metadata": {},
   "source": [
    "## 7️⃣ Hospital Management System\n",
    "\n",
    "#### Classes:\n",
    "##### Person, Doctor, Patient, Appointment, Prescription\n",
    "\n",
    "#### OOP Concepts:\n",
    "##### Inheritance\n",
    "##### Abstraction → base class Person\n",
    "##### Polymorphism → get_role()\n",
    "##### Encapsulation → private medical history"
   ]
  },
  {
   "cell_type": "code",
   "execution_count": 5,
   "id": "cd131c19-7686-4c88-952f-f3b6fd4715c9",
   "metadata": {},
   "outputs": [
    {
     "name": "stdout",
     "output_type": "stream",
     "text": [
      "========== 🏥 Hospital Management System ==========\n",
      "1. Add Doctor\n",
      "2. Add Patient\n",
      "3. Book Appointment\n",
      "4. Add Prescription\n",
      "5. View Medical History\n",
      "6. Exit\n"
     ]
    },
    {
     "name": "stdin",
     "output_type": "stream",
     "text": [
      "Enter your choice:  1\n",
      "Enter Doctor Name:  John\n",
      "Enter Doctor Age:  40\n",
      "Enter Specialization:  Cardiology\n"
     ]
    },
    {
     "name": "stdout",
     "output_type": "stream",
     "text": [
      "✅ Doctor John added successfully!\n",
      "\n",
      "========== 🏥 Hospital Management System ==========\n",
      "1. Add Doctor\n",
      "2. Add Patient\n",
      "3. Book Appointment\n",
      "4. Add Prescription\n",
      "5. View Medical History\n",
      "6. Exit\n"
     ]
    },
    {
     "name": "stdin",
     "output_type": "stream",
     "text": [
      "Enter your choice:  1\n",
      "Enter Doctor Name:  Smitha\n",
      "Enter Doctor Age:  35\n",
      "Enter Specialization:  Neurology\n"
     ]
    },
    {
     "name": "stdout",
     "output_type": "stream",
     "text": [
      "✅ Doctor Smitha added successfully!\n",
      "\n",
      "========== 🏥 Hospital Management System ==========\n",
      "1. Add Doctor\n",
      "2. Add Patient\n",
      "3. Book Appointment\n",
      "4. Add Prescription\n",
      "5. View Medical History\n",
      "6. Exit\n"
     ]
    },
    {
     "name": "stdin",
     "output_type": "stream",
     "text": [
      "Enter your choice:  2\n",
      "Enter Patient Name:  Amir\n",
      "Enter Patient Age:  30\n",
      "Enter medical history note:  Heart Problem\n"
     ]
    },
    {
     "name": "stdout",
     "output_type": "stream",
     "text": [
      "✅ Patient Amir added successfully!\n",
      "\n",
      "========== 🏥 Hospital Management System ==========\n",
      "1. Add Doctor\n",
      "2. Add Patient\n",
      "3. Book Appointment\n",
      "4. Add Prescription\n",
      "5. View Medical History\n",
      "6. Exit\n"
     ]
    },
    {
     "name": "stdin",
     "output_type": "stream",
     "text": [
      "Enter your choice:  2\n",
      "Enter Patient Name:  Booby\n",
      "Enter Patient Age:  82\n",
      "Enter medical history note:  Brain Problem\n"
     ]
    },
    {
     "name": "stdout",
     "output_type": "stream",
     "text": [
      "✅ Patient Booby added successfully!\n",
      "\n",
      "========== 🏥 Hospital Management System ==========\n",
      "1. Add Doctor\n",
      "2. Add Patient\n",
      "3. Book Appointment\n",
      "4. Add Prescription\n",
      "5. View Medical History\n",
      "6. Exit\n"
     ]
    },
    {
     "name": "stdin",
     "output_type": "stream",
     "text": [
      "Enter your choice:  3\n"
     ]
    },
    {
     "name": "stdout",
     "output_type": "stream",
     "text": [
      "\n",
      "Available Doctors:\n",
      "1. Dr. John (Cardiology)\n",
      "2. Dr. Smitha (Neurology)\n"
     ]
    },
    {
     "name": "stdin",
     "output_type": "stream",
     "text": [
      "Choose Doctor (number):  2\n"
     ]
    },
    {
     "name": "stdout",
     "output_type": "stream",
     "text": [
      "\n",
      "Available Patients:\n",
      "1. Amir, Age: 30\n",
      "2. Booby, Age: 82\n"
     ]
    },
    {
     "name": "stdin",
     "output_type": "stream",
     "text": [
      "Choose Patient (number):  2\n",
      "Enter Appointment Date (YYYY-MM-DD):  2025-09-01\n"
     ]
    },
    {
     "name": "stdout",
     "output_type": "stream",
     "text": [
      "✅ Appointment booked successfully!\n",
      "\n",
      "\n",
      "📅 Appointment Details:\n",
      "Doctor: Dr. Smitha (Neurology)\n",
      "Patient: Booby, Age: 82\n",
      "Date: 2025-09-01\n",
      "========== 🏥 Hospital Management System ==========\n",
      "1. Add Doctor\n",
      "2. Add Patient\n",
      "3. Book Appointment\n",
      "4. Add Prescription\n",
      "5. View Medical History\n",
      "6. Exit\n"
     ]
    },
    {
     "name": "stdin",
     "output_type": "stream",
     "text": [
      "Enter your choice:  4\n"
     ]
    },
    {
     "name": "stdout",
     "output_type": "stream",
     "text": [
      "\n",
      "Patients:\n",
      "1. Amir, Age: 30\n",
      "2. Booby, Age: 82\n"
     ]
    },
    {
     "name": "stdin",
     "output_type": "stream",
     "text": [
      "Select patient (number):  2\n",
      "Enter medicines (comma separated):  Imol,Combiflame,Okacet,Orofer\n"
     ]
    },
    {
     "name": "stdout",
     "output_type": "stream",
     "text": [
      "✅ Prescription added successfully!\n",
      "\n",
      "\n",
      "🩺 Prescription for Booby:\n",
      "- Imol\n",
      "- Combiflame\n",
      "- Okacet\n",
      "- Orofer\n",
      "========== 🏥 Hospital Management System ==========\n",
      "1. Add Doctor\n",
      "2. Add Patient\n",
      "3. Book Appointment\n",
      "4. Add Prescription\n",
      "5. View Medical History\n",
      "6. Exit\n"
     ]
    },
    {
     "name": "stdin",
     "output_type": "stream",
     "text": [
      "Enter your choice:  5\n"
     ]
    },
    {
     "name": "stdout",
     "output_type": "stream",
     "text": [
      "\n",
      "Patients:\n",
      "1. Amir, Age: 30\n",
      "2. Booby, Age: 82\n"
     ]
    },
    {
     "name": "stdin",
     "output_type": "stream",
     "text": [
      "Select patient (number):  2\n"
     ]
    },
    {
     "name": "stdout",
     "output_type": "stream",
     "text": [
      "\n",
      "🩹 Medical History of Booby: ['Brain Problem']\n",
      "\n",
      "========== 🏥 Hospital Management System ==========\n",
      "1. Add Doctor\n",
      "2. Add Patient\n",
      "3. Book Appointment\n",
      "4. Add Prescription\n",
      "5. View Medical History\n",
      "6. Exit\n"
     ]
    },
    {
     "name": "stdin",
     "output_type": "stream",
     "text": [
      "Enter your choice:  6\n"
     ]
    },
    {
     "name": "stdout",
     "output_type": "stream",
     "text": [
      "👋 Exiting... Stay Healthy!\n"
     ]
    }
   ],
   "source": [
    "from abc import ABC, abstractmethod\n",
    "\n",
    "class Person(ABC):\n",
    "    def __init__(self, name, age):\n",
    "        self.name = name\n",
    "        self.age = age\n",
    "\n",
    "    @abstractmethod\n",
    "    def get_role(self):\n",
    "        pass\n",
    "\n",
    "\n",
    "class Doctor(Person):\n",
    "    def __init__(self, name, age, specialization):\n",
    "        super().__init__(name, age)\n",
    "        self.specialization = specialization\n",
    "\n",
    "    def get_role(self):\n",
    "        return \"Doctor\"\n",
    "\n",
    "    def __str__(self):\n",
    "        return f\"Dr. {self.name} ({self.specialization})\"\n",
    "\n",
    "\n",
    "class Patient(Person):\n",
    "    def __init__(self, name, age):\n",
    "        super().__init__(name, age)\n",
    "        self.__medical_history = []  # private attribute\n",
    "\n",
    "    def add_medical_record(self, record):\n",
    "        self.__medical_history.append(record)\n",
    "\n",
    "    def get_medical_history(self):\n",
    "        return self.__medical_history\n",
    "\n",
    "    def get_role(self):\n",
    "        return \"Patient\"\n",
    "\n",
    "    def __str__(self):\n",
    "        return f\"{self.name}, Age: {self.age}\"\n",
    "\n",
    "\n",
    "class Appointment:\n",
    "    def __init__(self, doctor, patient, date):\n",
    "        self.doctor = doctor\n",
    "        self.patient = patient\n",
    "        self.date = date\n",
    "\n",
    "    def display_appointment(self):\n",
    "        print(f\"\\n📅 Appointment Details:\")\n",
    "        print(f\"Doctor: {self.doctor}\")\n",
    "        print(f\"Patient: {self.patient}\")\n",
    "        print(f\"Date: {self.date}\")\n",
    "\n",
    "\n",
    "class Prescription:\n",
    "    def __init__(self, patient, medicines):\n",
    "        self.patient = patient\n",
    "        self.medicines = medicines\n",
    "\n",
    "    def show_prescription(self):\n",
    "        print(f\"\\n🩺 Prescription for {self.patient.name}:\")\n",
    "        for med in self.medicines:\n",
    "            print(f\"- {med}\")\n",
    "\n",
    "\n",
    "class HospitalManagementSystem:\n",
    "    def __init__(self):\n",
    "        self.doctors = []\n",
    "        self.patients = []\n",
    "        self.appointments = []\n",
    "        self.prescriptions = []\n",
    "\n",
    "    def add_doctor(self):\n",
    "        name = input(\"Enter Doctor Name: \")\n",
    "        age = int(input(\"Enter Doctor Age: \"))\n",
    "        specialization = input(\"Enter Specialization: \")\n",
    "        doctor = Doctor(name, age, specialization)\n",
    "        self.doctors.append(doctor)\n",
    "        print(f\"✅ Doctor {doctor.name} added successfully!\\n\")\n",
    "\n",
    "    def add_patient(self):\n",
    "        name = input(\"Enter Patient Name: \")\n",
    "        age = int(input(\"Enter Patient Age: \"))\n",
    "        patient = Patient(name, age)\n",
    "        record = input(\"Enter medical history note: \")\n",
    "        patient.add_medical_record(record)\n",
    "        self.patients.append(patient)\n",
    "        print(f\"✅ Patient {patient.name} added successfully!\\n\")\n",
    "\n",
    "    def book_appointment(self):\n",
    "        if not self.doctors or not self.patients:\n",
    "            print(\"⚠️ Add at least one doctor and patient first!\\n\")\n",
    "            return\n",
    "        print(\"\\nAvailable Doctors:\")\n",
    "        for i, doc in enumerate(self.doctors):\n",
    "            print(f\"{i+1}. {doc}\")\n",
    "        d_index = int(input(\"Choose Doctor (number): \")) - 1\n",
    "\n",
    "        print(\"\\nAvailable Patients:\")\n",
    "        for i, pat in enumerate(self.patients):\n",
    "            print(f\"{i+1}. {pat}\")\n",
    "        p_index = int(input(\"Choose Patient (number): \")) - 1\n",
    "\n",
    "        date = input(\"Enter Appointment Date (YYYY-MM-DD): \")\n",
    "        appointment = Appointment(self.doctors[d_index], self.patients[p_index], date)\n",
    "        self.appointments.append(appointment)\n",
    "        print(\"✅ Appointment booked successfully!\\n\")\n",
    "        appointment.display_appointment()\n",
    "\n",
    "    def add_prescription(self):\n",
    "        if not self.patients:\n",
    "            print(\"⚠️ No patients available!\\n\")\n",
    "            return\n",
    "        print(\"\\nPatients:\")\n",
    "        for i, pat in enumerate(self.patients):\n",
    "            print(f\"{i+1}. {pat}\")\n",
    "        p_index = int(input(\"Select patient (number): \")) - 1\n",
    "\n",
    "        meds = input(\"Enter medicines (comma separated): \").split(\",\")\n",
    "        meds = [m.strip() for m in meds]\n",
    "        prescription = Prescription(self.patients[p_index], meds)\n",
    "        self.prescriptions.append(prescription)\n",
    "        print(\"✅ Prescription added successfully!\\n\")\n",
    "        prescription.show_prescription()\n",
    "\n",
    "    def view_medical_history(self):\n",
    "        if not self.patients:\n",
    "            print(\"⚠️ No patients found!\\n\")\n",
    "            return\n",
    "        print(\"\\nPatients:\")\n",
    "        for i, pat in enumerate(self.patients):\n",
    "            print(f\"{i+1}. {pat}\")\n",
    "        p_index = int(input(\"Select patient (number): \")) - 1\n",
    "        history = self.patients[p_index].get_medical_history()\n",
    "        print(f\"\\n🩹 Medical History of {self.patients[p_index].name}: {history}\\n\")\n",
    "\n",
    "    def menu(self):\n",
    "        while True:\n",
    "            print(\"========== 🏥 Hospital Management System ==========\")\n",
    "            print(\"1. Add Doctor\")\n",
    "            print(\"2. Add Patient\")\n",
    "            print(\"3. Book Appointment\")\n",
    "            print(\"4. Add Prescription\")\n",
    "            print(\"5. View Medical History\")\n",
    "            print(\"6. Exit\")\n",
    "\n",
    "            choice = input(\"Enter your choice: \")\n",
    "\n",
    "            if choice == '1':\n",
    "                self.add_doctor()\n",
    "            elif choice == '2':\n",
    "                self.add_patient()\n",
    "            elif choice == '3':\n",
    "                self.book_appointment()\n",
    "            elif choice == '4':\n",
    "                self.add_prescription()\n",
    "            elif choice == '5':\n",
    "                self.view_medical_history()\n",
    "            elif choice == '6':\n",
    "                print(\"👋 Exiting... Stay Healthy!\")\n",
    "                break\n",
    "            else:\n",
    "                print(\"❌ Invalid choice, please try again!\\n\")\n",
    "\n",
    "\n",
    "if __name__ == \"__main__\":\n",
    "    system = HospitalManagementSystem()\n",
    "    system.menu()\n"
   ]
  },
  {
   "cell_type": "code",
   "execution_count": null,
   "id": "6f97451b-80da-436d-9204-914ad69101ea",
   "metadata": {},
   "outputs": [],
   "source": []
  }
 ],
 "metadata": {
  "kernelspec": {
   "display_name": "Python 3 (ipykernel)",
   "language": "python",
   "name": "python3"
  },
  "language_info": {
   "codemirror_mode": {
    "name": "ipython",
    "version": 3
   },
   "file_extension": ".py",
   "mimetype": "text/x-python",
   "name": "python",
   "nbconvert_exporter": "python",
   "pygments_lexer": "ipython3",
   "version": "3.12.5"
  }
 },
 "nbformat": 4,
 "nbformat_minor": 5
}
