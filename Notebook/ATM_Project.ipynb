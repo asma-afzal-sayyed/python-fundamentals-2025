{
 "cells": [
  {
   "cell_type": "markdown",
   "id": "004bee70-8d08-43f2-96d6-2fd8d2eb7b6b",
   "metadata": {},
   "source": [
    "## 9️⃣ ATM System\n",
    "\n",
    "#### Classes:\n",
    "##### BankAccount, Customer, ATM, Transaction\n",
    "\n",
    "#### OOP Concepts:\n",
    "##### Encapsulation → Private account balance and PIN for security\n",
    "##### Inheritance → SavingsAccount and CurrentAccount inherit from BankAccount\n",
    "##### Polymorphism → Methods like withdraw() and deposit() behave differently depending on account type\n",
    "##### Abstraction → ATM interface hides complex banking operations and shows simple options (check balance, deposit, withdraw)"
   ]
  },
  {
   "cell_type": "code",
   "execution_count": 6,
   "id": "5b544a2e-f164-40ea-99c4-8bf036653d4a",
   "metadata": {},
   "outputs": [
    {
     "name": "stdout",
     "output_type": "stream",
     "text": [
      "🏦 Welcome to Python ATM System 🏦\n"
     ]
    },
    {
     "name": "stdin",
     "output_type": "stream",
     "text": [
      "Enter your name:  Asma\n",
      "Enter your 8-digit Account Number:  67284291\n"
     ]
    },
    {
     "name": "stdout",
     "output_type": "stream",
     "text": [
      "✅ Account number accepted!\n"
     ]
    },
    {
     "name": "stdin",
     "output_type": "stream",
     "text": [
      "Set your 4-digit PIN:  1234\n"
     ]
    },
    {
     "name": "stdout",
     "output_type": "stream",
     "text": [
      "\n",
      "Select Account Type:\n",
      "1. Savings Account\n",
      "2. Current Account\n"
     ]
    },
    {
     "name": "stdin",
     "output_type": "stream",
     "text": [
      "Enter choice:  1\n"
     ]
    },
    {
     "name": "stdout",
     "output_type": "stream",
     "text": [
      "\n",
      "Please insert your card...\n"
     ]
    },
    {
     "name": "stdin",
     "output_type": "stream",
     "text": [
      "Enter PIN to access your account:  1234\n"
     ]
    },
    {
     "name": "stdout",
     "output_type": "stream",
     "text": [
      "\n",
      "===== 💳 ATM MENU =====\n",
      "1. Account Details\n",
      "2. Account Balance\n",
      "3. Deposit Cash\n",
      "4. Withdraw Cash\n",
      "5. Change Name\n",
      "6. Show Account Number\n",
      "7. Change PIN\n",
      "8. Exit\n"
     ]
    },
    {
     "name": "stdin",
     "output_type": "stream",
     "text": [
      "Enter your choice:  1\n"
     ]
    },
    {
     "name": "stdout",
     "output_type": "stream",
     "text": [
      "\n",
      "===== 🧾 Account Details =====\n",
      "👤 Name: Asma\n",
      "🏦 Account Number: 67284291\n",
      "💰 Balance: ₹0\n",
      "==============================\n",
      "\n",
      "\n",
      "===== 💳 ATM MENU =====\n",
      "1. Account Details\n",
      "2. Account Balance\n",
      "3. Deposit Cash\n",
      "4. Withdraw Cash\n",
      "5. Change Name\n",
      "6. Show Account Number\n",
      "7. Change PIN\n",
      "8. Exit\n"
     ]
    },
    {
     "name": "stdin",
     "output_type": "stream",
     "text": [
      "Enter your choice:  2\n"
     ]
    },
    {
     "name": "stdout",
     "output_type": "stream",
     "text": [
      "💰 Current Balance: ₹0\n",
      "\n",
      "===== 💳 ATM MENU =====\n",
      "1. Account Details\n",
      "2. Account Balance\n",
      "3. Deposit Cash\n",
      "4. Withdraw Cash\n",
      "5. Change Name\n",
      "6. Show Account Number\n",
      "7. Change PIN\n",
      "8. Exit\n"
     ]
    },
    {
     "name": "stdin",
     "output_type": "stream",
     "text": [
      "Enter your choice:  3\n",
      "Enter deposit amount: ₹ 5000\n"
     ]
    },
    {
     "name": "stdout",
     "output_type": "stream",
     "text": [
      "💰 ₹5000.0 deposited successfully!\n",
      "\n",
      "===== 💳 ATM MENU =====\n",
      "1. Account Details\n",
      "2. Account Balance\n",
      "3. Deposit Cash\n",
      "4. Withdraw Cash\n",
      "5. Change Name\n",
      "6. Show Account Number\n",
      "7. Change PIN\n",
      "8. Exit\n"
     ]
    },
    {
     "name": "stdin",
     "output_type": "stream",
     "text": [
      "Enter your choice:  4\n",
      "Enter withdrawal amount: ₹ 1000\n"
     ]
    },
    {
     "name": "stdout",
     "output_type": "stream",
     "text": [
      "💸 ₹1000.0 withdrawn successfully!\n",
      "\n",
      "===== 💳 ATM MENU =====\n",
      "1. Account Details\n",
      "2. Account Balance\n",
      "3. Deposit Cash\n",
      "4. Withdraw Cash\n",
      "5. Change Name\n",
      "6. Show Account Number\n",
      "7. Change PIN\n",
      "8. Exit\n"
     ]
    },
    {
     "name": "stdin",
     "output_type": "stream",
     "text": [
      "Enter your choice:  2\n"
     ]
    },
    {
     "name": "stdout",
     "output_type": "stream",
     "text": [
      "💰 Current Balance: ₹4000.0\n",
      "\n",
      "===== 💳 ATM MENU =====\n",
      "1. Account Details\n",
      "2. Account Balance\n",
      "3. Deposit Cash\n",
      "4. Withdraw Cash\n",
      "5. Change Name\n",
      "6. Show Account Number\n",
      "7. Change PIN\n",
      "8. Exit\n"
     ]
    },
    {
     "name": "stdin",
     "output_type": "stream",
     "text": [
      "Enter your choice:  5\n",
      "Enter new name:  Anjali\n"
     ]
    },
    {
     "name": "stdout",
     "output_type": "stream",
     "text": [
      "✅ Name changed successfully!\n",
      "\n",
      "===== 💳 ATM MENU =====\n",
      "1. Account Details\n",
      "2. Account Balance\n",
      "3. Deposit Cash\n",
      "4. Withdraw Cash\n",
      "5. Change Name\n",
      "6. Show Account Number\n",
      "7. Change PIN\n",
      "8. Exit\n"
     ]
    },
    {
     "name": "stdin",
     "output_type": "stream",
     "text": [
      "Enter your choice:  6\n"
     ]
    },
    {
     "name": "stdout",
     "output_type": "stream",
     "text": [
      "🏦 Account Number: 67284291\n",
      "\n",
      "===== 💳 ATM MENU =====\n",
      "1. Account Details\n",
      "2. Account Balance\n",
      "3. Deposit Cash\n",
      "4. Withdraw Cash\n",
      "5. Change Name\n",
      "6. Show Account Number\n",
      "7. Change PIN\n",
      "8. Exit\n"
     ]
    },
    {
     "name": "stdin",
     "output_type": "stream",
     "text": [
      "Enter your choice:  7\n",
      "Enter old PIN:  1234\n",
      "Enter new 4-digit PIN:  4321\n"
     ]
    },
    {
     "name": "stdout",
     "output_type": "stream",
     "text": [
      "✅ PIN changed successfully!\n",
      "\n",
      "===== 💳 ATM MENU =====\n",
      "1. Account Details\n",
      "2. Account Balance\n",
      "3. Deposit Cash\n",
      "4. Withdraw Cash\n",
      "5. Change Name\n",
      "6. Show Account Number\n",
      "7. Change PIN\n",
      "8. Exit\n"
     ]
    },
    {
     "name": "stdin",
     "output_type": "stream",
     "text": [
      "Enter your choice:  8\n"
     ]
    },
    {
     "name": "stdout",
     "output_type": "stream",
     "text": [
      "👋 Thank you for using our ATM. Have a great day!\n"
     ]
    }
   ],
   "source": [
    "class BankAccount:\n",
    "    def __init__(self, account_number, name, pin, balance=0):\n",
    "        self.__account_number = account_number   \n",
    "        self.__pin = pin\n",
    "        self.__balance = balance\n",
    "        self.__name = name\n",
    "\n",
    "    def get_name(self):\n",
    "        return self.__name\n",
    "\n",
    "    def set_name(self, new_name):\n",
    "        self.__name = new_name\n",
    "        print(\"✅ Name changed successfully!\")\n",
    "\n",
    "    def get_account_number(self):\n",
    "        return self.__account_number\n",
    "\n",
    "    def check_pin(self, pin):\n",
    "        return self.__pin == pin\n",
    "\n",
    "    def change_pin(self, old_pin, new_pin):\n",
    "        if self.__pin == old_pin:\n",
    "            self.__pin = new_pin\n",
    "            print(\"✅ PIN changed successfully!\")\n",
    "        else:\n",
    "            print(\"❌ Incorrect old PIN!\")\n",
    "\n",
    "\n",
    "    def deposit(self, amount):\n",
    "        if amount > 0:\n",
    "            self.__balance += amount\n",
    "            print(f\"💰 ₹{amount} deposited successfully!\")\n",
    "        else:\n",
    "            print(\"❌ Invalid deposit amount!\")\n",
    "\n",
    "    def withdraw(self, amount):\n",
    "        if amount <= 0:\n",
    "            print(\"❌ Invalid withdrawal amount!\")\n",
    "        elif amount > self.__balance:\n",
    "            print(\"❌ Insufficient balance!\")\n",
    "        else:\n",
    "            self.__balance -= amount\n",
    "            print(f\"💸 ₹{amount} withdrawn successfully!\")\n",
    "\n",
    "    def get_balance(self):\n",
    "        return self.__balance\n",
    "\n",
    "    def show_details(self):\n",
    "        print(\"\\n===== 🧾 Account Details =====\")\n",
    "        print(f\"👤 Name: {self.__name}\")\n",
    "        print(f\"🏦 Account Number: {self.__account_number}\")\n",
    "        print(f\"💰 Balance: ₹{self.__balance}\")\n",
    "        print(\"==============================\\n\")\n",
    "\n",
    "\n",
    "class SavingsAccount(BankAccount):\n",
    "    def __init__(self, account_number, name, pin, balance=0):\n",
    "        super().__init__(account_number, name, pin, balance)\n",
    "        self.interest_rate = 0.04\n",
    "\n",
    "\n",
    "class CurrentAccount(BankAccount):\n",
    "    def __init__(self, account_number, name, pin, balance=0):\n",
    "        super().__init__(account_number, name, pin, balance)\n",
    "        self.overdraft_limit = 5000\n",
    "\n",
    "\n",
    "class ATM:\n",
    "    def __init__(self, account):\n",
    "        self.account = account\n",
    "\n",
    "    def menu(self):\n",
    "        while True:\n",
    "            print(\"\\n===== 💳 ATM MENU =====\")\n",
    "            print(\"1. Account Details\")\n",
    "            print(\"2. Account Balance\")\n",
    "            print(\"3. Deposit Cash\")\n",
    "            print(\"4. Withdraw Cash\")\n",
    "            print(\"5. Change Name\")\n",
    "            print(\"6. Show Account Number\")\n",
    "            print(\"7. Change PIN\")\n",
    "            print(\"8. Exit\")\n",
    "\n",
    "            choice = input(\"Enter your choice: \")\n",
    "\n",
    "            if choice == '1':\n",
    "                self.account.show_details()\n",
    "\n",
    "            elif choice == '2':\n",
    "                print(f\"💰 Current Balance: ₹{self.account.get_balance()}\")\n",
    "\n",
    "            elif choice == '3':\n",
    "                amt = float(input(\"Enter deposit amount: ₹\"))\n",
    "                self.account.deposit(amt)\n",
    "\n",
    "            elif choice == '4':\n",
    "                amt = float(input(\"Enter withdrawal amount: ₹\"))\n",
    "                self.account.withdraw(amt)\n",
    "\n",
    "            elif choice == '5':\n",
    "                new_name = input(\"Enter new name: \")\n",
    "                self.account.set_name(new_name)\n",
    "\n",
    "            elif choice == '6':\n",
    "                print(f\"🏦 Account Number: {self.account.get_account_number()}\")\n",
    "\n",
    "            elif choice == '7':\n",
    "                old_pin = input(\"Enter old PIN: \")\n",
    "                new_pin = input(\"Enter new 4-digit PIN: \")\n",
    "                self.account.change_pin(old_pin, new_pin)\n",
    "\n",
    "            elif choice == '8':\n",
    "                print(\"👋 Thank you for using our ATM. Have a great day!\")\n",
    "                break\n",
    "\n",
    "            else:\n",
    "                print(\"❌ Invalid choice! Please try again.\")\n",
    "\n",
    "\n",
    "print(\"🏦 Welcome to Python ATM System 🏦\")\n",
    "name = input(\"Enter your name: \")\n",
    "\n",
    "while True:\n",
    "    acc_num = input(\"Enter your 8-digit Account Number: \")\n",
    "    if acc_num.isdigit() and len(acc_num) == 8:\n",
    "        print(\"✅ Account number accepted!\")\n",
    "        break\n",
    "    else:\n",
    "        print(\"❌ Invalid account number! Please enter exactly 8 digits.\")\n",
    "\n",
    "while True:\n",
    "    pin = input(\"Set your 4-digit PIN: \")\n",
    "    if pin.isdigit() and len(pin) == 4:\n",
    "        break\n",
    "    else:\n",
    "        print(\"❌ PIN must be exactly 4 digits!\")\n",
    "\n",
    "print(\"\\nSelect Account Type:\")\n",
    "print(\"1. Savings Account\")\n",
    "print(\"2. Current Account\")\n",
    "acc_type = input(\"Enter choice: \")\n",
    "\n",
    "if acc_type == '1':\n",
    "    account = SavingsAccount(acc_num, name, pin)\n",
    "elif acc_type == '2':\n",
    "    account = CurrentAccount(acc_num, name, pin)\n",
    "else:\n",
    "    print(\"Invalid choice! Defaulting to Savings Account.\")\n",
    "    account = SavingsAccount(acc_num, name, pin)\n",
    "\n",
    "print(\"\\nPlease insert your card...\")\n",
    "entered_pin = input(\"Enter PIN to access your account: \")\n",
    "\n",
    "if account.check_pin(entered_pin):\n",
    "    atm = ATM(account)\n",
    "    atm.menu()\n",
    "else:\n",
    "    print(\"❌ Incorrect PIN. Access denied.\")\n"
   ]
  },
  {
   "cell_type": "code",
   "execution_count": null,
   "id": "91170273-3581-4049-9f19-f1e9587b70dd",
   "metadata": {},
   "outputs": [],
   "source": []
  }
 ],
 "metadata": {
  "kernelspec": {
   "display_name": "Python 3 (ipykernel)",
   "language": "python",
   "name": "python3"
  },
  "language_info": {
   "codemirror_mode": {
    "name": "ipython",
    "version": 3
   },
   "file_extension": ".py",
   "mimetype": "text/x-python",
   "name": "python",
   "nbconvert_exporter": "python",
   "pygments_lexer": "ipython3",
   "version": "3.12.5"
  }
 },
 "nbformat": 4,
 "nbformat_minor": 5
}
