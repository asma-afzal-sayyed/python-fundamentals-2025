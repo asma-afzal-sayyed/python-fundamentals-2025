{
 "cells": [
  {
   "cell_type": "markdown",
   "id": "f96a3b6a-60e5-4d35-bb8d-8c47fc2881d5",
   "metadata": {},
   "source": [
    "# Python Exercises on Functions"
   ]
  },
  {
   "cell_type": "code",
   "execution_count": 1,
   "id": "eeaa6bf5-92f2-4558-a6d1-1e66a21e5bbc",
   "metadata": {},
   "outputs": [
    {
     "name": "stdin",
     "output_type": "stream",
     "text": [
      "Enter temperature in celcius 12\n"
     ]
    },
    {
     "name": "stdout",
     "output_type": "stream",
     "text": [
      "Temperature in fahrenheit: 53.6\n"
     ]
    }
   ],
   "source": [
    "# 1. Define a function to convert *Celsius to Fahrenheit*.\n",
    "\n",
    "def temp(celsius):\n",
    "    fahrenheit = (celsius * 9/5) + 32\n",
    "    return fahrenheit\n",
    "n=float(input(\"Enter temperature in celcius\"))\n",
    "print(\"Temperature in fahrenheit:\", temp(n))"
   ]
  },
  {
   "cell_type": "code",
   "execution_count": 2,
   "id": "d591a3f5-f514-4058-9a86-b3c3d26dbc21",
   "metadata": {},
   "outputs": [
    {
     "name": "stdin",
     "output_type": "stream",
     "text": [
      "Enter a number:  49\n"
     ]
    },
    {
     "name": "stdout",
     "output_type": "stream",
     "text": [
      "49 is a perfect square\n"
     ]
    }
   ],
   "source": [
    "# 2. Write a function to check if a number is a *perfect square*.\n",
    "\n",
    "def is_perfect_square(n):\n",
    "    if n < 0:\n",
    "        return False   \n",
    "    i = 0\n",
    "    while i * i <= n:\n",
    "        if i * i == n:\n",
    "            return True\n",
    "        i += 1\n",
    "    return False\n",
    "num = int(input(\"Enter a number: \"))\n",
    "if is_perfect_square(num):\n",
    "    print(num, \"is a perfect square\")\n",
    "else:\n",
    "    print(num, \"is not a perfect square\")"
   ]
  },
  {
   "cell_type": "code",
   "execution_count": 4,
   "id": "646f71c7-9fd2-4712-b218-9c9510fde188",
   "metadata": {},
   "outputs": [
    {
     "name": "stdin",
     "output_type": "stream",
     "text": [
      "Enter a string: Hello Everyone!\n"
     ]
    },
    {
     "name": "stdout",
     "output_type": "stream",
     "text": [
      "Length of string: 15\n"
     ]
    }
   ],
   "source": [
    "# 3. Create a function to return the *length of a string*.\n",
    "\n",
    "def str(s):\n",
    "    count = 0\n",
    "    for i in s:   \n",
    "        count += 1\n",
    "    return count\n",
    "text = input(\"Enter a string:\")\n",
    "print(\"Length of string:\", str(text))"
   ]
  },
  {
   "cell_type": "code",
   "execution_count": 6,
   "id": "7edfe6b0-8584-4825-93aa-1a7343aebaa1",
   "metadata": {},
   "outputs": [
    {
     "name": "stdin",
     "output_type": "stream",
     "text": [
      "Enter a number 1235\n"
     ]
    },
    {
     "name": "stdout",
     "output_type": "stream",
     "text": [
      "Sum of digits: 11\n"
     ]
    }
   ],
   "source": [
    "#4. Define a function to find the *sum of all digits* of a number.\n",
    "\n",
    "def sum1(n):\n",
    "    total = 0\n",
    "    while n > 0:\n",
    "        digit = n % 10      \n",
    "        total += digit      \n",
    "        n //= 10            \n",
    "    return total\n",
    "num = int(input(\"Enter a number\"))\n",
    "print(\"Sum of digits:\", sum1(num))"
   ]
  },
  {
   "cell_type": "code",
   "execution_count": 7,
   "id": "37ec5193-43a4-461b-b46c-4ffcba68543d",
   "metadata": {},
   "outputs": [
    {
     "name": "stdin",
     "output_type": "stream",
     "text": [
      "Enter a sentence:  The quick brown fox jumps over the lazy dog\n"
     ]
    },
    {
     "name": "stdout",
     "output_type": "stream",
     "text": [
      "✅ The sentence is a Pangram!\n"
     ]
    }
   ],
   "source": [
    "#5. Write a Python function that accepts a string from the user and returns True if the string is a pangram, otherwise returns False.\n",
    "#(A pangram is a sentence that contains every letter of the English alphabet at least once.)\n",
    "\n",
    "import string\n",
    "\n",
    "def is_pangram(sentence):\n",
    "    # Convert to lowercase\n",
    "    sentence = sentence.lower()\n",
    "\n",
    "    # Get all letters from a–z\n",
    "    alphabet = set(string.ascii_lowercase)\n",
    "\n",
    "    # Create a set of all characters in the sentence\n",
    "    letters_in_sentence = set(sentence)\n",
    "\n",
    "    # Check if all alphabets are present\n",
    "    return alphabet.issubset(letters_in_sentence)\n",
    "\n",
    "\n",
    "# --- Get input from user ---\n",
    "text = input(\"Enter a sentence: \")\n",
    "\n",
    "# --- Check and display result ---\n",
    "if is_pangram(text):\n",
    "    print(\"✅ The sentence is a Pangram!\")\n",
    "else:\n",
    "    print(\"❌ The sentence is NOT a Pangram.\")\n"
   ]
  },
  {
   "cell_type": "code",
   "execution_count": 9,
   "id": "b6e2af2f-cba8-451b-8230-a5b36da70e22",
   "metadata": {},
   "outputs": [
    {
     "name": "stdin",
     "output_type": "stream",
     "text": [
      "Enter a sentence:  My name is Asma\n"
     ]
    },
    {
     "name": "stdout",
     "output_type": "stream",
     "text": [
      "Number of words: 4\n"
     ]
    }
   ],
   "source": [
    "#6. Define a function to count the number of *words in a sentence*.\n",
    "\n",
    "def count_words(sentence):\n",
    "    val = sentence.split()   \n",
    "    count = 0\n",
    "    for i in val:            \n",
    "        count += 1\n",
    "    return count\n",
    "s = input(\"Enter a sentence: \")\n",
    "print(\"Number of words:\", count_words(s))"
   ]
  },
  {
   "cell_type": "code",
   "execution_count": 5,
   "id": "08d5015d-86fe-44a9-9584-e4bb6c2377b2",
   "metadata": {},
   "outputs": [
    {
     "name": "stdout",
     "output_type": "stream",
     "text": [
      "List: [10, 45, 76, 89, 5, 34]\n",
      "Smallest number: 5\n"
     ]
    }
   ],
   "source": [
    "# 7. Write a function to return the *smallest number in a list*.\n",
    "\n",
    "def smallest_number(numbers):\n",
    "    smallest = numbers[0]\n",
    "    for i in numbers:\n",
    "        if i < smallest:\n",
    "            smallest = i\n",
    "    return smallest\n",
    "nums = [10,45,76,89,5,34]\n",
    "print(\"List:\", nums)\n",
    "print(\"Smallest number:\",\n",
    "smallest_number(nums))"
   ]
  },
  {
   "cell_type": "code",
   "execution_count": 4,
   "id": "21ba582e-aaa0-4d86-8ec0-777a345d8188",
   "metadata": {},
   "outputs": [
    {
     "name": "stdout",
     "output_type": "stream",
     "text": [
      "List: [2, 3, 4, 5, 10]\n",
      "Multiplication of all items: 1200\n"
     ]
    }
   ],
   "source": [
    "# 8. Define a function that *multiplies all items in a list*.\n",
    "\n",
    "def multi(numbers):\n",
    "    count = 1\n",
    "    for i in numbers:\n",
    "        count *= i\n",
    "    return count\n",
    "nums = [2, 3, 4, 5, 10]\n",
    "print(\"List:\", nums)\n",
    "print(\"Multiplication of all items:\", multi(nums))"
   ]
  },
  {
   "cell_type": "code",
   "execution_count": 2,
   "id": "70076a15-ce50-46fa-9e03-48ef2bf6e350",
   "metadata": {},
   "outputs": [
    {
     "name": "stdin",
     "output_type": "stream",
     "text": [
      "Enter a number:  152\n"
     ]
    },
    {
     "name": "stdout",
     "output_type": "stream",
     "text": [
      "152 is NOT an Armstrong number\n"
     ]
    }
   ],
   "source": [
    "# 9. Create a function to check if a number is *Armstrong number*.\n",
    "\n",
    "def is_armstrong(num):\n",
    "    digits = str(num)\n",
    "    n = len(digits)  \n",
    "    total = 0   \n",
    "    for i in digits:\n",
    "        total += int(i) ** n     \n",
    "    return total == num\n",
    "number = int(input(\"Enter a number: \"))\n",
    "if is_armstrong(number):\n",
    "    print(f\"{number} is an Armstrong number\")\n",
    "else:\n",
    "    print(f\"{number} is NOT an Armstrong number\")"
   ]
  },
  {
   "cell_type": "code",
   "execution_count": 3,
   "id": "85e74665-fab5-453b-8a34-55ba7687d124",
   "metadata": {},
   "outputs": [
    {
     "name": "stdin",
     "output_type": "stream",
     "text": [
      "Enter a number:  123321\n"
     ]
    },
    {
     "name": "stdout",
     "output_type": "stream",
     "text": [
      "123321 is a Palindrome\n"
     ]
    }
   ],
   "source": [
    "# 10. Write a function that returns *True if a number is palindrome*, else False.\n",
    "\n",
    "def is_palindrome(num):\n",
    "    n = str(num)        # Convert number to string\n",
    "    i = len(n) - 1\n",
    "    rev = \"\"            \n",
    "\n",
    "    while i >= 0:\n",
    "        rev += n[i]\n",
    "        i -= 1\n",
    "\n",
    "    return n == rev\n",
    "\n",
    "\n",
    "# --- Get input from user ---\n",
    "num = int(input(\"Enter a number: \"))   # Input as integer\n",
    "\n",
    "# --- Check and print result ---\n",
    "if is_palindrome(num):\n",
    "    print(f\"{num} is a Palindrome\")\n",
    "else:\n",
    "    print(f\"{num} is NOT a Palindrome\")\n",
    "\n"
   ]
  },
  {
   "cell_type": "code",
   "execution_count": 12,
   "id": "5f126fcd-086c-4ac6-bc36-a67916f1ded8",
   "metadata": {},
   "outputs": [
    {
     "name": "stdout",
     "output_type": "stream",
     "text": [
      "List: [10, 20, 30, 40, 50]\n",
      "Average: 30.0\n"
     ]
    }
   ],
   "source": [
    "# 11. Create a function that accepts a list and returns the *average of numbers*.\n",
    "\n",
    "def average(numbers):\n",
    "    total = 0\n",
    "    count = 0\n",
    "    for i in numbers:  \n",
    "        total += i\n",
    "        count += 1           \n",
    "    return total / count\n",
    "nums = [10, 20, 30, 40, 50]\n",
    "print(\"List:\", nums)\n",
    "print(\"Average:\", average(nums))"
   ]
  },
  {
   "cell_type": "code",
   "execution_count": 11,
   "id": "bd07969f-cfdb-421c-a533-0d75382e16bc",
   "metadata": {},
   "outputs": [
    {
     "name": "stdin",
     "output_type": "stream",
     "text": [
      "Enter first string:  listen\n",
      "Enter second string:  silent\n"
     ]
    },
    {
     "name": "stdout",
     "output_type": "stream",
     "text": [
      "✅ The strings are anagrams!\n"
     ]
    }
   ],
   "source": [
    "# 12. Write a function that takes two strings and returns *True if they are anagrams*.\n",
    "\n",
    "def are_anagrams(str1, str2):\n",
    "    # Remove spaces and convert to lowercase\n",
    "    str1 = str1.replace(\" \", \"\").lower()\n",
    "    str2 = str2.replace(\" \", \"\").lower()\n",
    "\n",
    "    # Compare sorted characters\n",
    "    return sorted(str1) == sorted(str2)\n",
    "\n",
    "\n",
    "# --- Get input from user ---\n",
    "string1 = input(\"Enter first string: \")\n",
    "string2 = input(\"Enter second string: \")\n",
    "\n",
    "# --- Check and display result ---\n",
    "if are_anagrams(string1, string2):\n",
    "    print(\"✅ The strings are anagrams!\")\n",
    "else:\n",
    "    print(\"❌ The strings are not anagrams.\")\n",
    "\n"
   ]
  },
  {
   "cell_type": "code",
   "execution_count": null,
   "id": "0b42f5c7-d117-4088-91ff-6bc6e5cceff6",
   "metadata": {},
   "outputs": [],
   "source": []
  }
 ],
 "metadata": {
  "kernelspec": {
   "display_name": "Python 3 (ipykernel)",
   "language": "python",
   "name": "python3"
  },
  "language_info": {
   "codemirror_mode": {
    "name": "ipython",
    "version": 3
   },
   "file_extension": ".py",
   "mimetype": "text/x-python",
   "name": "python",
   "nbconvert_exporter": "python",
   "pygments_lexer": "ipython3",
   "version": "3.12.5"
  }
 },
 "nbformat": 4,
 "nbformat_minor": 5
}
